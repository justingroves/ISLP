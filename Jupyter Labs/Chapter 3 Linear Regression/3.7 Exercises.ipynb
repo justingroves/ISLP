{
 "cells": [
  {
   "cell_type": "markdown",
   "metadata": {},
   "source": [
    "# 3.7 Exercises"
   ]
  },
  {
   "cell_type": "markdown",
   "metadata": {},
   "source": [
    "## Conceptual"
   ]
  },
  {
   "cell_type": "markdown",
   "metadata": {},
   "source": [
    "### Question 1"
   ]
  },
  {
   "cell_type": "markdown",
   "metadata": {},
   "source": [
    "### Describe the null hypotheses to which the $p$-values given in Table 3.4 correspond. Explain what conclusions you can draw vased on these $p$-values. Your explanation should be phrased in terms of `sales`, `TV`, `radio`, and `newspaper`, rather than in terms of the coefficients of the linear model."
   ]
  },
  {
   "cell_type": "markdown",
   "metadata": {},
   "source": [
    "**Answer**: Note Table 3.4: \n",
    "\n",
    "$$\n",
    "\\begin{aligned}\n",
    "    \\begin{array}{l|rrrr}\n",
    "        \\hline \n",
    "         & \\text{Coefficient} & \\text{Std. error} & t\\text{-statistic} & p\\text{-value} \\\\\n",
    "        \\hline\n",
    "        \\verb|Intercept| & 2.939 & 0.3119 & 9.42 & \\lt 0.0001 \\\\\n",
    "        \\verb|TV| & 0.046 & 0.0014 & 32.81 & \\lt 0.0001 \\\\\n",
    "        \\verb|radio| & 0.189 & 0.0086 & 21.89 & \\lt 0.0001 \\\\\n",
    "        \\verb|newspaper| & -0.001 & 0.0059 & -0.18 & 0.8599 \\\\ \\hline\n",
    "    \\end{array}\n",
    "\\end{aligned}\n",
    "$$\n",
    "\n",
    "Since we have multiple $p$-values, then we have multiple hypotheses that are being tested. Before we can discuss the hypotheses, we first describe the true model that we are trying to predict. Let $X_1$, $X_2$, and $X_3$ represent the random variables of  `TV`, `radio`, and `newspaper`, respectively, and let $Y$ represent the random variable of sales. We are therefore considering the linear regression model regressing `sales` onto the other three variables given by\n",
    "\n",
    "$$\n",
    "    \\begin{align}\n",
    "        Y = \\beta_0 + \\beta_1 X_1 + \\beta_2 X_2 + \\beta_3 X_3.\n",
    "    \\end{align}\n",
    "$$\n",
    "\n",
    "Table 3.4 then represents the output of fitting the following model using ordinary least squares (OLS):\n",
    "\n",
    "$$\n",
    "    \\hat{y} = \\hat{\\beta}_0 + \\hat{\\beta}_1 x_1 + \\hat{\\beta}_2 x_2 + \\hat{\\beta}_3 x_3\n",
    "$$\n",
    "\n",
    "Thus, the null hypotheses for each variable is as follows: for each variable $X_i$ given in equation $(1)$, we have that $H_0$ is that the coefficient $\\beta_i = 0$, and the alternative hypotheseis $H_1$ is that the coefficient $\\beta_i \\neq 0$. Note that if the $p$-value is not less than 0.05, then we cannot reject $H_0$. This does not mean that $H_0$ is correct, but rather it means that the current sample data does not support the claim that $H_0$ is incorrect. In terms of these $p$-values, we can see that the only $p$-value not less than 0.05 is for coefficient $\\beta_3$ for `newspaper`. This means that we cannot reject the claim that the impact of `newspaper` on `sales` when considering the linear model given by $(1)$ is none. Thus, the current data does not suggest that advertising in newspaper along with TV and radio has any effect on the output of sales in either direction (positive or negative). While this does not prove that newspaper advertising is inefficient, it does suggest that newspaper advertising (assuming a linear model) is not effective in the light of both TV and radio advertising. However, we can definitely conclude that advertising for TV and radio is impactful in a positive way on sales. We do not see evidence that there is a relationship between `newspaper` and `sales`, but there is evidence of a relationship among `TV` and `radio` with `sales`.\n",
    "\n",
    "Finally, since the $p$-value associated with the intercept term $\\beta_0$ is less than 0.05, we do see that we can support the claim that $\\beta_0$ is non-zero. From the estimated value of $\\beta_0$, we see that in the absence of TV, radio, and newspaper advertising we still see positive sales values. "
   ]
  },
  {
   "cell_type": "markdown",
   "metadata": {},
   "source": []
  }
 ],
 "metadata": {
  "language_info": {
   "name": "python"
  }
 },
 "nbformat": 4,
 "nbformat_minor": 2
}
