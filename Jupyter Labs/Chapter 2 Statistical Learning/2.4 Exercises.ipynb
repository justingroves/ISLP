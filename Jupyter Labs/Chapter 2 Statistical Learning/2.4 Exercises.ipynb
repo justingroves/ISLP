{
 "cells": [
  {
   "cell_type": "markdown",
   "metadata": {},
   "source": [
    "# 2.4 Exercises"
   ]
  },
  {
   "cell_type": "markdown",
   "metadata": {
    "vscode": {
     "languageId": "plaintext"
    }
   },
   "source": [
    "## Conceptual Questions"
   ]
  },
  {
   "cell_type": "markdown",
   "metadata": {},
   "source": [
    "### **Question 1**"
   ]
  },
  {
   "cell_type": "markdown",
   "metadata": {},
   "source": [
    "For each of parts (a) through (d), indicate whether we would generally expect the performance of a flexible statistical learning method to be better or worse that an inflexible method. Justify your answer."
   ]
  },
  {
   "cell_type": "markdown",
   "metadata": {
    "vscode": {
     "languageId": "plaintext"
    }
   },
   "source": [
    "#### (a) The sample size $n$ is extremely large, and the number of predictors $p$ is small."
   ]
  },
  {
   "cell_type": "markdown",
   "metadata": {},
   "source": [
    "**Answer**:  With an extremely large sample size and a small number of predictors, a flexible model will perform better than an inflexible model. This is due to the fact that assuming a supervised learning model following the standard bias-variance tradeoff model for an approximation model $\\hat{f}$ predicting $y_0$:\n",
    "\n",
    "$$ \n",
    "\\begin{align}\n",
    "    \\mathbb{E}(y_0 - \\hat{f}(x_0))^2 &= \\text{Var}(\\hat{f}(x_0)) + [\\text{Bias}(\\hat{f}(x_0))]^2 + \\text{Var}(\\epsilon),\n",
    "\\end{align}    \n",
    "$$\n",
    "\n",
    "model performance is based upon minimizing the variance and bias terms of $\\hat{f}$. With an extremely large sample size, the variance of $\\hat{f}$ will be minimized no matter what model flexibility we assume. Flexible models often suffer due to high variance, but due to the extremely large sample size this will be mitigated. However, given a small number of predictors $p$, the bias term will be minimized when we use a flexible model as opposed to an inflexible model. This is because a flexible model that does not assume a linear relationship among the predictors introduces less assumptions of the relationship between the predictors, thereby lowering the bias of $\\hat{f}$."
   ]
  },
  {
   "cell_type": "markdown",
   "metadata": {},
   "source": [
    "#### (b) The number of predictors $p$ is extremely large, and the number of observations $n$ is small."
   ]
  },
  {
   "cell_type": "markdown",
   "metadata": {},
   "source": [
    "**Answer:** With an extremely large number of predictors and small number of observations, then an inflexible model will perform better. Referencing equation $(1)$ above, model performance is dependent upon the variance and bias of $\\hat{f}$. With a small number of observations, flexible models will suffer from high variance dependent upon the training set. While their bias will be small, this will be offset by the very high variance. In comparison, using an inflexible model (such as assuming a linear relationship among the predictors) will result in less variance dependent upon the training set due to the rigid loss functions of the inflexible model. Their higher bias will be offset by the greatly reduced variance, resulting in an overall improved model performance. This will avoid the common pitfall of overfitting, which is commen when using very flexible models with small sample sizes."
   ]
  },
  {
   "cell_type": "markdown",
   "metadata": {},
   "source": [
    "#### (c) The relationship between the predictors and response is highly non-linear."
   ]
  },
  {
   "cell_type": "markdown",
   "metadata": {},
   "source": [
    "**Answer:** In the case that the relationship between the predictors and response is highly non-linear, the model with the best performance would be a flexible model. As inflexible models often assume a rigid linear relationship between the predictors (such as linear regression), an inflexible model would not capture the true relationship between the predictors. While an inflexible model $\\hat{f}$ following equation $(1)$ would have a low bias term, due to the relationship between the predictors not able to be captured by an inflexible model the variance of $\\hat{f}$ (depending upon the training data) would be very high, resulting in poor performance (i.e., underfitting). Using a flexible model would introduce low bias and be better at capturing the relationship among the predictors using the training data, resulting in a lower variance term as well. Note though, that if the sample size was small, a simpler flexible model would be preferable to avoid overfitting."
   ]
  },
  {
   "cell_type": "markdown",
   "metadata": {},
   "source": [
    "#### (d) The variance of the error terms, i.e., $\\sigma^2 = \\text{Var}(\\epsilon)$, is extremely high."
   ]
  },
  {
   "cell_type": "markdown",
   "metadata": {},
   "source": [
    "**Answer:** In the case that the variance of the error terms is extremely high, then an inflexible model will have the best performance. The reason is that a flexible model will be extremely sensitive to the erradic noise present in the sample data. Following equation $(1)$, a flexible model is very sensitive to the sample data and the variance of $\\hat{f}$ will greatly increase due to the randomness of the noise present from the distribution of $\\epsilon$. To mitigate overfitting the noise of the model, an inflexible model's rigid structure (such as linear regression) will ignore extreme variation caused by the distribution of $\\epsilon$, resulting in overall better model performance. "
   ]
  },
  {
   "cell_type": "markdown",
   "metadata": {},
   "source": [
    "### Question 2"
   ]
  },
  {
   "cell_type": "markdown",
   "metadata": {},
   "source": [
    "Explain whether each scenario is a classification or regression problem, and indicate whether we are more interested in inference or prediction. Finally, provide $n$ and $p$."
   ]
  },
  {
   "cell_type": "markdown",
   "metadata": {},
   "source": [
    "#### (a) We collect a set of data on the top 500 firms in the US. For each firm we record profit, number of employees, industry and the CEO salary. We are interested in understanding which factors affect CEO salary."
   ]
  },
  {
   "cell_type": "markdown",
   "metadata": {},
   "source": [
    "**Answer:** The above scenario is a regression problem, as we are trying to understand CEO salary, which is a continuous numerical variable and not a categorical variable. In particular, we are more interested in inference rather than prediction, as we wish to understand which factors affect CEO salary as opposed to merely predicting CEO salary based on the prescribed features. In this case, an inflexible model with a rigid structure would be recommended to measure the impact of each feature on model structure and/or performance. Finally, $n = 500$ and $p = 4$."
   ]
  },
  {
   "cell_type": "markdown",
   "metadata": {},
   "source": [
    "#### (b) We are considering launching a new product and wish to know whether it will be a *success* or a *failure*. We collect data on 20 similar products that were previously launched. For each product we have recorded whether or not is was a success or failure, price charged for the product, marketing budget, competition price, and ten other variables."
   ]
  },
  {
   "cell_type": "markdown",
   "metadata": {},
   "source": [
    "**Answer:** The above scenario is a classification problem, as we are trying to classify products into one of two categories, either *success* or *failure* (i.e., a categorical variable with two possible states). In particular, we are more interested in prediction rather than inference, as the goal is simply to identify which products will be succesful rather than what variables impact product success. In this case, $n=20$ and $p=14$. With such a small sample size and nearly equivalent number of predictors, a simple flexible model is recommended to capture the possible non-linear relationship among the features but also avoid overfitting."
   ]
  },
  {
   "cell_type": "markdown",
   "metadata": {
    "vscode": {
     "languageId": "plaintext"
    }
   },
   "source": [
    "#### (c) We are interested in predicting the % change in the USD/Euro exchange rate in relation to the weekly changes in the world stock markets. Hence we collect weekly data for all of 2012. For each week we record the % change in the USD/Euro, the % change in the US market, the % change in the British market, and the % change in the German market."
   ]
  },
  {
   "cell_type": "markdown",
   "metadata": {},
   "source": [
    "**Answer:** The above scenario is a regression problem, as we are trying to predict the % change which is a continuous numerical variable (bounded by 0% and 100%). In particular, we are more interested in prediction rather than inference, as the goal is to predict the % change rather than understand how the tracked features impact % change. Finally, $n=52$ (52 weeks in a year and data is collected every week) and $p = 4$ (% change in each market). We recommend a flexible model due to the high likelihood that the relationship among the predictors and response is highly non-linear. This, however, means that care must be taken not to overfit due to the small sample size. As such, a simple flexible model is recommended."
   ]
  },
  {
   "cell_type": "markdown",
   "metadata": {},
   "source": []
  }
 ],
 "metadata": {
  "language_info": {
   "name": "python"
  }
 },
 "nbformat": 4,
 "nbformat_minor": 2
}
