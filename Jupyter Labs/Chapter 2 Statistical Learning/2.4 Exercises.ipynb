{
 "cells": [
  {
   "cell_type": "markdown",
   "metadata": {},
   "source": [
    "# 2.4 Exercises"
   ]
  },
  {
   "cell_type": "markdown",
   "metadata": {
    "vscode": {
     "languageId": "plaintext"
    }
   },
   "source": [
    "## Conceptual Questions"
   ]
  },
  {
   "cell_type": "markdown",
   "metadata": {},
   "source": [
    "### **Question 1**"
   ]
  },
  {
   "cell_type": "markdown",
   "metadata": {},
   "source": [
    "For each of parts (a) through (d), indicate whether we would generally expect the performance of a flexible statistical learning method to be better or worse that an inflexible method. Justify your answer."
   ]
  },
  {
   "cell_type": "markdown",
   "metadata": {
    "vscode": {
     "languageId": "plaintext"
    }
   },
   "source": [
    "#### (a) The sample size $n$ is extremely large, and the number of predictors $p$ is small."
   ]
  },
  {
   "cell_type": "markdown",
   "metadata": {},
   "source": [
    "**Answer**:  With an extremely large sample size and a small number of predictors, a flexible model will perform better than an inflexible model. This is due to the fact that assuming a supervised learning model following the standard bias-variance tradeoff model for an approximation model $\\hat{f}$ predicting $y_0$:\n",
    "\n",
    "$$ \n",
    "\\begin{align}\n",
    "    \\mathbb{E}(y_0 - \\hat{f}(x_0))^2 &= \\text{Var}(\\hat{f}(x_0)) + [\\text{Bias}(\\hat{f}(x_0))]^2 + \\text{Var}(\\epsilon),\n",
    "\\end{align}    \n",
    "$$\n",
    "\n",
    "model performance is based upon minimizing the variance and bias terms of $\\hat{f}$. With an extremely large sample size, the variance of $\\hat{f}$ will be minimized no matter what model flexibility we assume. Flexible models often suffer due to high variance, but due to the extremely large sample size this will be mitigated. However, given a small number of predictors $p$, the bias term will be minimized when we use a flexible model as opposed to an inflexible model. This is because a flexible model that does not assume a linear relationship among the predictors introduces less assumptions of the relationship between the predictors, thereby lowering the bias of $\\hat{f}$."
   ]
  },
  {
   "cell_type": "markdown",
   "metadata": {},
   "source": [
    "#### (b) The number of predictors $p$ is extremely large, and the number of observations $n$ is small."
   ]
  },
  {
   "cell_type": "markdown",
   "metadata": {},
   "source": [
    "**Answer:** With an extremely large number of predictors and small number of observations, then an inflexible model will perform better. Referencing equation $(1)$ above, model performance is dependent upon the variance and bias of $\\hat{f}$. With a small number of observations, flexible models will suffer from high variance dependent upon the training set. While their bias will be small, this will be offset by the very high variance. In comparison, using an inflexible model (such as assuming a linear relationship among the predictors) will result in less variance dependent upon the training set due to the rigid loss functions of the inflexible model. Their higher bias will be offset by the greatly reduced variance, resulting in an overall improved model performance. This will avoid the common pitfall of overfitting, which is commen when using very flexible models with small sample sizes."
   ]
  },
  {
   "cell_type": "markdown",
   "metadata": {},
   "source": [
    "#### (c) The relationship between the predictors and response is highly non-linear."
   ]
  },
  {
   "cell_type": "markdown",
   "metadata": {},
   "source": [
    "**Answer:** In the case that the relationship between the predictors and response is highly non-linear, the model with the best performance would be a flexible model. As inflexible models often assume a rigid linear relationship between the predictors (such as linear regression), an inflexible model would not capture the true relationship between the predictors. While an inflexible model $\\hat{f}$ following equation $(1)$ would have a low bias term, due to the relationship between the predictors not able to be captured by an inflexible model the variance of $\\hat{f}$ (depending upon the training data) would be very high, resulting in poor performance (i.e., underfitting). Using a flexible model would introduce low bias and be better at capturing the relationship among the predictors using the training data, resulting in a lower variance term as well. Note though, that if the sample size was small, a simpler flexible model would be preferable to avoid overfitting."
   ]
  },
  {
   "cell_type": "markdown",
   "metadata": {},
   "source": [
    "#### (d) The variance of the error terms, i.e., $\\sigma^2 = \\text{Var}(\\epsilon)$, is extremely high."
   ]
  },
  {
   "cell_type": "markdown",
   "metadata": {},
   "source": [
    "**Answer:** In the case that the variance of the error terms is extremely high, then an inflexible model will have the best performance. The reason is that a flexible model will be extremely sensitive to the erradic noise present in the sample data. Following equation $(1)$, a flexible model is very sensitive to the sample data and the variance of $\\hat{f}$ will greatly increase due to the randomness of the noise present from the distribution of $\\epsilon$. To mitigate overfitting the noise of the model, an inflexible model's rigid structure (such as linear regression) will ignore extreme variation caused by the distribution of $\\epsilon$, resulting in overall better model performance. "
   ]
  },
  {
   "cell_type": "markdown",
   "metadata": {},
   "source": [
    "### Question 2"
   ]
  },
  {
   "cell_type": "markdown",
   "metadata": {},
   "source": [
    "Explain whether each scenario is a classification or regression problem, and indicate whether we are more interested in inference or prediction. Finally, provide $n$ and $p$."
   ]
  },
  {
   "cell_type": "markdown",
   "metadata": {},
   "source": [
    "#### (a) We collect a set of data on the top 500 firms in the US. For each firm we record profit, number of employees, industry and the CEO salary. We are interested in understanding which factors affect CEO salary."
   ]
  },
  {
   "cell_type": "markdown",
   "metadata": {},
   "source": [
    "**Answer:** The above scenario is a regression problem, as we are trying to understand CEO salary, which is a continuous numerical variable and not a categorical variable. In particular, we are more interested in inference rather than prediction, as we wish to understand which factors affect CEO salary as opposed to merely predicting CEO salary based on the prescribed features. In this case, an inflexible model with a rigid structure would be recommended to measure the impact of each feature on model structure and/or performance. Finally, $n = 500$ and $p = 4$."
   ]
  },
  {
   "cell_type": "markdown",
   "metadata": {},
   "source": [
    "#### (b) We are considering launching a new product and wish to know whether it will be a *success* or a *failure*. We collect data on 20 similar products that were previously launched. For each product we have recorded whether or not is was a success or failure, price charged for the product, marketing budget, competition price, and ten other variables."
   ]
  },
  {
   "cell_type": "markdown",
   "metadata": {},
   "source": [
    "**Answer:** The above scenario is a classification problem, as we are trying to classify products into one of two categories, either *success* or *failure* (i.e., a categorical variable with two possible states). In particular, we are more interested in prediction rather than inference, as the goal is simply to identify which products will be succesful rather than what variables impact product success. In this case, $n=20$ and $p=14$. With such a small sample size and nearly equivalent number of predictors, a simple flexible model is recommended to capture the possible non-linear relationship among the features but also avoid overfitting."
   ]
  },
  {
   "cell_type": "markdown",
   "metadata": {
    "vscode": {
     "languageId": "plaintext"
    }
   },
   "source": [
    "#### (c) We are interested in predicting the % change in the USD/Euro exchange rate in relation to the weekly changes in the world stock markets. Hence we collect weekly data for all of 2012. For each week we record the % change in the USD/Euro, the % change in the US market, the % change in the British market, and the % change in the German market."
   ]
  },
  {
   "cell_type": "markdown",
   "metadata": {},
   "source": [
    "**Answer:** The above scenario is a regression problem, as we are trying to predict the % change which is a continuous numerical variable (bounded by 0% and 100%). In particular, we are more interested in prediction rather than inference, as the goal is to predict the % change rather than understand how the tracked features impact % change. Finally, $n=52$ (52 weeks in a year and data is collected every week) and $p = 4$ (% change in each market). We recommend a flexible model due to the high likelihood that the relationship among the predictors and response is highly non-linear. This, however, means that care must be taken not to overfit due to the small sample size. As such, a simple flexible model is recommended."
   ]
  },
  {
   "cell_type": "markdown",
   "metadata": {},
   "source": [
    "### Question 3"
   ]
  },
  {
   "cell_type": "markdown",
   "metadata": {},
   "source": [
    "We now revisit the bias-variance decomposition."
   ]
  },
  {
   "cell_type": "markdown",
   "metadata": {},
   "source": [
    "#### (a) Provide a sketch of typical (squared) bias, variance, training error, test error, and Bayes (or irreducible) error curve, on a single plot, as we go from less flexible statistical learning methods towards more flexible approaches. The $x$-axis should represent the amount of flexibility in the method, and the $y$-axis should represent the values for each curve. There should be five curves. Make sure to label each one."
   ]
  },
  {
   "cell_type": "markdown",
   "metadata": {},
   "source": [
    "To answer this question, we will form a plot using the `matplotlib.pyplot` library."
   ]
  },
  {
   "cell_type": "code",
   "execution_count": 3,
   "metadata": {},
   "outputs": [],
   "source": [
    "# Import the needed packages\n",
    "import matplotlib.pyplot as plt             # For plotting\n",
    "import numpy as np                          # For arrays\n",
    "from scipy.interpolate import interp1d   # For smooth lines"
   ]
  },
  {
   "cell_type": "markdown",
   "metadata": {},
   "source": [
    "Next we'll form the graph."
   ]
  },
  {
   "cell_type": "code",
   "execution_count": 4,
   "metadata": {},
   "outputs": [
    {
     "data": {
      "image/png": "[encoded data removed]",
      "text/plain": [
       "<Figure size 1200x500 with 1 Axes>"
      ]
     },
     "metadata": {},
     "output_type": "display_data"
    }
   ],
   "source": [
    "# Set the x and y-axis parameters\n",
    "x_lim = y_lim = [0, 10]\n",
    "x_ticks = y_ticks = [1, 9]\n",
    "x_tick_label = y_tick_label = ['Low', 'High']\n",
    "tick_font_size = 12\n",
    "\n",
    "# Set figure labels\n",
    "x_label = 'Model Flexibility'\n",
    "y_label = 'Quantitative Value'\n",
    "label_font_size = 14\n",
    "title = 'Model Flexibility vs. Quantitative Value'\n",
    "title_font_size = 18\n",
    "\n",
    "# Initialize the figure\n",
    "fig, ax = plt.subplots(figsize=(12,5))\n",
    "\n",
    "# Set the x-axis\n",
    "ax.set_xlim(x_lim)\n",
    "ax.set_xticks(x_ticks, labels=x_tick_label, fontsize=tick_font_size)\n",
    "ax.set_xlabel(x_label, fontsize = label_font_size)\n",
    "\n",
    "# Set the y-axis\n",
    "ax.set_ylim(y_lim)\n",
    "ax.set_yticks(y_ticks, labels=y_tick_label, fontsize=tick_font_size)\n",
    "ax.set_ylabel(y_label, fontsize=label_font_size)\n",
    "\n",
    "# Set the figure label\n",
    "ax.set_title(title, fontsize=title_font_size)\n",
    "\n",
    "# Set the range of x-values\n",
    "x = np.array(range(x_lim[0], x_lim[1]+1, 1))\n",
    "\n",
    "# Plot the variance\n",
    "y_var = [0.2, 0.5, 0.8, 1, 1.4, 2, 2.3, 2.7, 6, 7, 8]\n",
    "cs = interp1d(x, y_var, kind='quadratic')\n",
    "x_var_smooth = np.linspace(x.min(), x.max(), 200) # Add more x-values for smoother look\n",
    "y_var_smooth = cs(x_var_smooth)\n",
    "ax.plot(\n",
    "    x_var_smooth,\n",
    "    y_var_smooth,\n",
    "    '-',\n",
    "    # label=r'$\\text{Var}(\\hat{f}(x_0))$',\n",
    "    label='Var',\n",
    "    color='r'\n",
    ")\n",
    "\n",
    "# Plot the (squared) bias\n",
    "y_bias = [8, 3, 2.8, 2, 1.7, 1.3, 1, 0.8, 0.5, 0.25, 0.1]\n",
    "cs = interp1d(x, y_bias, kind='quadratic')\n",
    "x_bias_smooth = np.linspace(x.min(), x.max(), 200) # Add more x-values for smoother look\n",
    "y_bias_smooth = cs(x_bias_smooth)\n",
    "ax.plot(\n",
    "    x_bias_smooth,\n",
    "    y_bias_smooth,\n",
    "    '-',\n",
    "    # label=r'$[\\text{Bias}(\\hat{f}(x_0))]^2$',\n",
    "    label='Bias',\n",
    "    color='b'\n",
    ")\n",
    "\n",
    "# Plot the (Bayes) irreducible error\n",
    "ax.plot(\n",
    "    range(0,11,1),\n",
    "    [1.5]*11, \n",
    "    '--', \n",
    "    # label=r'$\\text{Var}(\\epsilon)$',\n",
    "    label='Bayes Error',\n",
    "    color='orange'\n",
    ")\n",
    "\n",
    "# Plot the test error\n",
    "y_test_error = y_bias_smooth + y_var_smooth + np.array([1.5]*200)\n",
    "ax.plot(\n",
    "    x_bias_smooth,\n",
    "    y_test_error,\n",
    "    '-',\n",
    "    # label=r'$\\mathbb{E}(y_0 - \\hat{f}(x_0))^2$'\n",
    "    label='Test MSE'\n",
    ")\n",
    "\n",
    "# Plot the training error\n",
    "ax.plot(\n",
    "    x_bias_smooth,\n",
    "    y_bias_smooth + y_var_smooth,\n",
    "    '-',\n",
    "    label='Training MSE',\n",
    "    color='purple'\n",
    ")\n",
    "\n",
    "# Plot the optimal MSE\n",
    "plt.axvline(\n",
    "    x=x_bias_smooth[np.where(y_test_error == y_test_error.min())],\n",
    "    linestyle='--',\n",
    "    color='gray',\n",
    "    alpha=0.5,\n",
    "    label='Optimal MSE'\n",
    ")\n",
    "\n",
    "ax.legend() # Turn on the legend\n",
    "\n",
    "plt.show()"
   ]
  },
  {
   "cell_type": "markdown",
   "metadata": {},
   "source": [
    "#### (b) Explain why each of the five curves has the shape displayed in part (a)."
   ]
  },
  {
   "cell_type": "markdown",
   "metadata": {},
   "source": [
    "For each of the five curves, we have the above shape as:\n",
    "- **Variance** : The variance of the MSE (assuming a supervised learning model) is very low for inflexible models due to the rigid structure of their loss functions. However, as model flexibility increases changes to the training set can result in different models $\\hat{f}$, thereby resulting in higher variance.\n",
    "- **Bias** : The bias of the MSE is very high for inflexible models as they assume a strong rigid structure between the predictor variables. As model flexibility increases, this assumption loosens, which lowers the bias of the model $\\hat{f}$.\n",
    "- **Bayes (Irreducible) Error** : The irreducible error is a random variable that is caused by uncontrollable factors, and is assumed to have fixed (albeit, low) variance throughout. \n",
    "- **Test MSE** : The test MSE (or test error) is the sum of the three components: the variance, bias, and irreducible error. These three combine to give the average MSE per model $\\hat{f}$.\n",
    "- **Training MSE** : The training MSE (or training error) is the same as above, only limited to the calculations done on the training data (while the test MSE is limited to calculation done on the test data). Since we would expect the model to perform better on the training data (i.e., *known* data) rather than the test data (i.e., *unknown* data), then the training MSE is less (on average) than the test MSE.\n",
    "- **Optimal MSE** : The optimal MSE is the minimum value of the test MSE, and indicates the recommended model $\\hat{f}$ to use in production."
   ]
  },
  {
   "cell_type": "markdown",
   "metadata": {},
   "source": [
    "### Question 4"
   ]
  },
  {
   "cell_type": "markdown",
   "metadata": {},
   "source": [
    "You will now think of some real-life applications for statistical learning."
   ]
  },
  {
   "cell_type": "markdown",
   "metadata": {},
   "source": [
    "#### (a) Describe three real-life applications in which *classification* might be useful. Describe the response, as well as the predictors. Is the goal of each application inference or prediction? Explain your answer."
   ]
  },
  {
   "cell_type": "markdown",
   "metadata": {},
   "source": [
    "**Answer**: Here are three real-life applications in which classification might be useful:\n",
    "\n",
    "1) Classifying whether forms collect a demographic data point or not. The response variable would be a Boolean flag (either `True` or `False`) indicating if the form collects the demographic data point in question. Predictors may include, but are not limited to, the form text, program office of the form, detected keywords, etc. The goal of this application would be prediction, as we are not so much concerned with what leads to a flexible model detecting collection, but rather want accurate results of collection.\n",
    "2) Classifying whether a given recipe uploaded to a cooking webside will drive high user engagement or not. The response variable would be a categorical variable (with categories such as `Low`, `Medium`, and `High`) indicating the likelihood of driving user engagement or not. Predictors may be the category of recipe, time it takes to cook, time for prep, number of ingredients, calories of the dish, and grams of sugar in the dish. Depending on the need, the goal could be inference or prediction. Taking a prediction approach would focus on selecting high likelihood recipes and avoiding low likelihood recipes. Taking an inference approach would let the website identify what type of recipes are driving user engagement.\n",
    "3) Classifying which neighborhood a family would like to purchase a home in a given city. The response variable would be the recommended neighborhood to purchase a home in. Predictors may be the average home price, local school ratings, location to shopping districts, and available outdoor activities in the neighborhood. This application would have an inference goal, with the purpose of understanding what factors are most important in determining neighborhoods to recommend to customers."
   ]
  },
  {
   "cell_type": "markdown",
   "metadata": {},
   "source": [
    "#### (b) Describe three real-life applications in which *regression* might be useful. Describe the response, as well as the predictors. Is the goal of each application inference or prediction? Explain your answer."
   ]
  },
  {
   "cell_type": "markdown",
   "metadata": {},
   "source": [
    "**Answer**: Here are three real-life applications in which regression might be useful.\n",
    "\n",
    "1) Predicting the sale price of a home. The response variable would be the dollar amount that the house is sold for. Predictors may include, but are not limited to, square footage, number of bedrooms, number of bathrooms, and local school rating. The goal of the application would be inference, allowing for determining what factors most influence home price value (either positive or negative). \n",
    "2) Predicting the GPA of a student at the end of the semester given their performance in previous courses. The response variable would be the GPA value. Predictors may include, but are not limited to, letter grades assigned to other classes in previous semesters, assigned major, or assigned minor. The goal of the application would be inference or prediction. If inference, identify which classes most directly contribute to success and/or failure in the next semester. If prediction, identify the resulting GPA at the end of the semester (which can be used for likelihood of a student to maintain their scholarship).\n",
    "3) Predicting the color hue using RGB numerical values of a pixel based upon the color of surrounding pixels. The response variable would be a 3-dimensional numerical vector where each coordinate corresponds to the RGB value, respectively. Predictors would include the 3-dimensional vectors of surrounding pixels. The goal of the application would be prediction, as we are only concerned with setting the unknown pixel's value to a reasonable color and not the predictors that most influence that value."
   ]
  },
  {
   "cell_type": "markdown",
   "metadata": {},
   "source": [
    "#### (c) Describe three real-life applications in which *cluster analysis* might be useful."
   ]
  },
  {
   "cell_type": "markdown",
   "metadata": {},
   "source": [
    "**Answer**: Here are three real-life applications in which cluster analysis might be useful:\n",
    "\n",
    "1. Classifying the type of flower species a given flower. This is assuming that the flower species can fit into a select group of categories that can be clustered based upon quantiative variables of the flowers. This would assign a cluster value to a given flower based upon proximity of quantitative variables.\n",
    "2. Identifying the cluster for which movie genre a subscribed viewer is most interested in watching on a given day. \n",
    "3. Identifying the cluster for which a particular news article belongs with regard to political affiliation. This would allows for navigating a shifting political line."
   ]
  },
  {
   "cell_type": "markdown",
   "metadata": {},
   "source": [
    "### Question 5"
   ]
  },
  {
   "cell_type": "markdown",
   "metadata": {},
   "source": [
    "What are the advantages and disadvantages of a very flexible (versus a less flexible) approach for regression or classification? Under what circumstances might a more flexible approach be preferred to a less flexible approach? When might a less flexible approach be preferred?"
   ]
  },
  {
   "cell_type": "markdown",
   "metadata": {},
   "source": [
    "**Answer**: \n",
    "The advantages of a flexible model are as follows:\n",
    "\n",
    "- Better fit for complex relationships among the predictors for capturing non-linear and intricate data structures\n",
    "- Lower bias\n",
    "- Higher accuracy on the training data\n",
    "- More expressive models can capture the relationship between the predictor variables and response variable\n",
    "\n",
    "The disadvantages of a flexible model are as follows:\n",
    "\n",
    "- More likely to overfit the training data and capture information caused by noise\n",
    "- Increased variance\n",
    "- Larger training time and compute resources to train the model\n",
    "- Less interpretable and harder to explain to a non-technical audience\n",
    "\n",
    "The advantages of an inflexible model are as follows:\n",
    "\n",
    "- Lower risk of overfitting the training data and capturing noise \n",
    "- Lower variance\n",
    "- Lower training time and compute resources to train the model\n",
    "- More interpretability and easier to explain to non-technical audiences\n",
    "\n",
    "The disadvantages of an inflexible model are as follows:\n",
    "\n",
    "- Worse fit for complex relationships among the predictors such as non-linear and intricate data structures\n",
    "- Increased bias\n",
    "- Lower accuracy on training data\n",
    "- Harder to capute the relationship between the predictor variables and response variable (if non-linear)\n",
    "\n",
    "A more flexible approach would be preferred when:\n",
    "\n",
    "- Prediction is more important than inference\n",
    "- The underlying relationship among the predictor and response variables is unknown\n",
    "- Compute resources are not a concern\n",
    "- The dataset is large to minimize overfitting \n",
    "- Regularization techniques will be applied to mitigate overfitting risks\n",
    "\n",
    "A less flexible approach would be preferred when:\n",
    "\n",
    "- Inference is more important than prediction\n",
    "- The underlying relationship among the predictor and response variables is known (or assumed)\n",
    "- Compute resources are limited\n",
    "- The dataset is small or noisy, making overfitting a risk\n",
    "\n"
   ]
  },
  {
   "cell_type": "markdown",
   "metadata": {},
   "source": [
    "### Question 6"
   ]
  },
  {
   "cell_type": "markdown",
   "metadata": {},
   "source": [
    "Describe the difference between a parametric and a non-parametric statistical learning approach. What are the advantages of a parametric approach to regression or classification (as opposed to a non-parametric approach)? What are its disadvantages?"
   ]
  },
  {
   "cell_type": "markdown",
   "metadata": {},
   "source": [
    "**Answer**: The key difference between a parametric and a non-parametric statistical learning approach is the assumptions placed upon the form of the model $f$ which is trying to be deduced based upon the training data. Assuming a parametric approach means ascribing a strong known relationship among the predictors, so training the models involves selecting parameters that minimize the loss function with the given underlying structure of $f$. On the other hand, a non-parametric appoach involves no assumptions on the underlying structure of $f$, and seeks to fit a model $\\hat{f}$ that most closely resembles the training data rather than a rigid provided structure.\n",
    "\n",
    "The advantages of a parametric approach are as follows:\n",
    "\n",
    "- Assumed known relationship about the underlying model $f$\n",
    "- Training is more linear, involving minimizing the loss function given the parameters of the model structure\n",
    "- View the predictors within the scope of the underlying model and more easily understand interpretability of the model\n",
    "- Less susceptible to noise within the dataset and overfitting\n",
    "- Faster training and fitting of the data\n",
    "\n",
    "The disadvantages of a parametric approach are as follows:\n",
    "\n",
    "- Relationship is forced upon the predictors, which may or may not be accurate\n",
    "- May capture a wrong relationship among the predictor and response variables if underlying structure does not match the prescribed base model\n",
    "- Introduce more bias into the modeling process than what may be desired\n",
    "- Poor performance on data that is not structured as assumed"
   ]
  },
  {
   "cell_type": "markdown",
   "metadata": {},
   "source": [
    "### Question 7"
   ]
  },
  {
   "cell_type": "markdown",
   "metadata": {},
   "source": [
    "The table below provides a training data set containing six observations, three predictors, and one qualitative response variable.\n",
    "\n",
    "\n",
    "$$\n",
    "\\begin{aligned}\n",
    "    \\begin{array}{c|rccl}\n",
    "        \\hline \n",
    "        \\text{Obs.} & X_1 & X_2 & X_3 & Y \\\\\n",
    "        \\hline\n",
    "        1 & 0 & 3 & 0 & \\text{Red} \\\\\n",
    "        2 & 2 & 0 & 0 & \\text{Red} \\\\\n",
    "        3 & 0 & 1 & 3 & \\text{Red} \\\\\n",
    "        4 & 0 & 1 & 2 & \\text{Green} \\\\\n",
    "        5 & -1 & 0 & 1 & \\text{Green} \\\\\n",
    "        6 & 1 & 1 & 1 & \\text{Red} \\\\ \\hline\n",
    "    \\end{array}\n",
    "\\end{aligned}\n",
    "$$\n",
    "\n",
    "Suppose we wish to use this data to make a prediction for $Y$ when $X_1 = X_2 = X_3 = 0$ using $K$-nearest neighbors.\n"
   ]
  },
  {
   "cell_type": "markdown",
   "metadata": {},
   "source": [
    "#### (a) Compute the Euclidean distance between each obsersation and the test point, $X_1 = X_2 = X_3 = 0$."
   ]
  },
  {
   "cell_type": "markdown",
   "metadata": {},
   "source": [
    "**Answer**: The Euclidean distance for each observation is as follows:\n",
    "\n",
    "1. $d(\\bar{0}, \\bar{1}) = \\sqrt{(0 - 0)^2 + (0 - 3)^2 + (0 - 0)^2} = \\sqrt{9} = 3$\n",
    "2. $d(\\bar{0}, \\bar{2}) = \\sqrt{(0 - 2)^2 + (0 - 0)^2 + (0 - 0)^2} = \\sqrt{4} = 2$\n",
    "3. $d(\\bar{0}, \\bar{3}) = \\sqrt{(0 - 0)^2 + (0 - 1)^2 + (0 - 3)^2} = \\sqrt{10} \\approx 3.16$\n",
    "4. $d(\\bar{0}, \\bar{4}) = \\sqrt{(0 - 0)^2 + (0 - 1)^2 + (0 - 2)^2} = \\sqrt{5} \\approx 2.24$\n",
    "5. $d(\\bar{0}, \\bar{5}) = \\sqrt{(0 - (-1))^2 + (0 - 0)^2 + (0 - 1)^2} = \\sqrt{2} \\approx 1.41$\n",
    "6. $d(\\bar{0}, \\bar{6}) = \\sqrt{(0 - 1)^2 + (0 - 1)^2 + (0 - 1)^2} = \\sqrt{3} \\approx 1.73$"
   ]
  },
  {
   "cell_type": "markdown",
   "metadata": {},
   "source": [
    "#### (b) What is our prediction with $K = 1$? Why?"
   ]
  },
  {
   "cell_type": "markdown",
   "metadata": {},
   "source": [
    "**Answer**: Using a clustering analysis of one-nearest neighbor with the Euclidean distance, we would classify $Y$ for test point $\\bar{0}$ as Green, as the smallest Euclidean distance between $\\bar{0}$ and the provided points is $\\sqrt{2}$ with observation 5. With $K = 1$ we are only concerned with the cluster associated with the observation closest to $\\bar{0}$."
   ]
  },
  {
   "cell_type": "markdown",
   "metadata": {},
   "source": [
    "#### (c) What is our prediction with $K = 3$? Why?"
   ]
  },
  {
   "cell_type": "markdown",
   "metadata": {},
   "source": [
    "**Answer:** With $K = 3$ we are concerned with the clusters of the three closest points to $\\bar{0}$, which would be observations 5, 6, and 2 which correspond to clusters Green, Red, and Red, respectively. As such, we would classify $Y$ for test point $\\bar{0}$ as Red, as Red occurs with the most frequency in the three-nearest neighbors."
   ]
  },
  {
   "cell_type": "markdown",
   "metadata": {},
   "source": [
    "#### (d) If the Bayes decision boundary in this problem is highly non-linear, then would we expect the *best* value for *K* to be large or small? Why?"
   ]
  },
  {
   "cell_type": "markdown",
   "metadata": {},
   "source": [
    "**Answer:** With a highly non-linear Bayes decision boundary, we would expect $K$ to be fairly small. The reason is that larger $K$'s correspond with more linear decision boundaries, as a large collection of nearby points are considered when predicting the cluster for a new observation. When $K$ is small, then the model is more flexible which results in smaller spheres of influence which corresponds to a more non-linear decision boundary. \n",
    "\n",
    "Note that a smaller $K$ corresponds to higher variance, and hence can be associated with overfitting. As $K$ increases, then the decision boundary smooths, resulting in lower variance but higher bias, which can result in oversimplifying and underfitting the data."
   ]
  },
  {
   "cell_type": "markdown",
   "metadata": {},
   "source": [
    "## Applied Questions"
   ]
  },
  {
   "cell_type": "markdown",
   "metadata": {},
   "source": [
    "### Question 8"
   ]
  },
  {
   "cell_type": "markdown",
   "metadata": {},
   "source": [
    "This exercise relates to the `College` data set, which can be found in the file `College.csv`. It contains a number of variables for 777 different universities and colleges in the US. The variables are:\n",
    "\n",
    "- `Private`: Public/private indicator\n",
    "- `Apps`: Number of applications received\n",
    "- `Accept`: Number of applicants accepted\n",
    "- `Enroll`: Number of new students enrolled\n",
    "- `Top10perc`: New students from top 10% of high school class\n",
    "- `Top25perc`: New students from top 25% of high school class\n",
    "- `F.Undergrad`: Number of full-time undergraduates\n",
    "- `P.Undergrad`: Number of part-time undergraduates\n",
    "- `Outstate`: Out-of-state tuition\n",
    "- `Room.Board`: Room and board costs\n",
    "- `Books`: Estimated book costs\n",
    "- `Personal`: Estimated personal spending\n",
    "- `PhD`: Percent of faculty with Ph.D.s\n",
    "- `Terminal`: Percent of faculty with terminal degree\n",
    "- `S.F.Ratio`: Student/faculty ratio\n",
    "- `perc.alumni`: Percent of alumni who donate\n",
    "- `Expend`: Instrutional expenditure per student\n",
    "- `Grad.Rate`: Graduation rate"
   ]
  },
  {
   "cell_type": "markdown",
   "metadata": {},
   "source": [
    "#### (a) Use the `pd.read_csv()` function to read the data into `Python`. CAll the loaded data `college`. Make sure that you have the directory set to the right location for the data."
   ]
  },
  {
   "cell_type": "markdown",
   "metadata": {},
   "source": [
    "**Answer:** We navigate to the correct directory and load in the data."
   ]
  },
  {
   "cell_type": "code",
   "execution_count": 5,
   "metadata": {},
   "outputs": [],
   "source": [
    "# Load necessary packages\n",
    "import os\n",
    "import pandas as pd\n",
    "\n",
    "# Set the current notebook directory\n",
    "CUR_DIR = os.getcwd()\n",
    "\n",
    "# Navigate, load the data, and return\n",
    "os.chdir(os.path.dirname(os.path.dirname(CUR_DIR)) + '\\\\Data')\n",
    "college = pd.read_csv('College.csv')"
   ]
  },
  {
   "cell_type": "markdown",
   "metadata": {},
   "source": [
    "We confirm by checking the first few rows of the DataFrame."
   ]
  },
  {
   "cell_type": "code",
   "execution_count": 6,
   "metadata": {},
   "outputs": [
    {
     "data": {
      "text/html": [
       "<div>\n",
       "<style scoped>\n",
       "    .dataframe tbody tr th:only-of-type {\n",
       "        vertical-align: middle;\n",
       "    }\n",
       "\n",
       "    .dataframe tbody tr th {\n",
       "        vertical-align: top;\n",
       "    }\n",
       "\n",
       "    .dataframe thead th {\n",
       "        text-align: right;\n",
       "    }\n",
       "</style>\n",
       "<table border=\"1\" class=\"dataframe\">\n",
       "  <thead>\n",
       "    <tr style=\"text-align: right;\">\n",
       "      <th></th>\n",
       "      <th>Unnamed: 0</th>\n",
       "      <th>Private</th>\n",
       "      <th>Apps</th>\n",
       "      <th>Accept</th>\n",
       "      <th>Enroll</th>\n",
       "      <th>Top10perc</th>\n",
       "      <th>Top25perc</th>\n",
       "      <th>F.Undergrad</th>\n",
       "      <th>P.Undergrad</th>\n",
       "      <th>Outstate</th>\n",
       "      <th>Room.Board</th>\n",
       "      <th>Books</th>\n",
       "      <th>Personal</th>\n",
       "      <th>PhD</th>\n",
       "      <th>Terminal</th>\n",
       "      <th>S.F.Ratio</th>\n",
       "      <th>perc.alumni</th>\n",
       "      <th>Expend</th>\n",
       "      <th>Grad.Rate</th>\n",
       "    </tr>\n",
       "  </thead>\n",
       "  <tbody>\n",
       "    <tr>\n",
       "      <th>0</th>\n",
       "      <td>Abilene Christian University</td>\n",
       "      <td>Yes</td>\n",
       "      <td>1660</td>\n",
       "      <td>1232</td>\n",
       "      <td>721</td>\n",
       "      <td>23</td>\n",
       "      <td>52</td>\n",
       "      <td>2885</td>\n",
       "      <td>537</td>\n",
       "      <td>7440</td>\n",
       "      <td>3300</td>\n",
       "      <td>450</td>\n",
       "      <td>2200</td>\n",
       "      <td>70</td>\n",
       "      <td>78</td>\n",
       "      <td>18.1</td>\n",
       "      <td>12</td>\n",
       "      <td>7041</td>\n",
       "      <td>60</td>\n",
       "    </tr>\n",
       "    <tr>\n",
       "      <th>1</th>\n",
       "      <td>Adelphi University</td>\n",
       "      <td>Yes</td>\n",
       "      <td>2186</td>\n",
       "      <td>1924</td>\n",
       "      <td>512</td>\n",
       "      <td>16</td>\n",
       "      <td>29</td>\n",
       "      <td>2683</td>\n",
       "      <td>1227</td>\n",
       "      <td>12280</td>\n",
       "      <td>6450</td>\n",
       "      <td>750</td>\n",
       "      <td>1500</td>\n",
       "      <td>29</td>\n",
       "      <td>30</td>\n",
       "      <td>12.2</td>\n",
       "      <td>16</td>\n",
       "      <td>10527</td>\n",
       "      <td>56</td>\n",
       "    </tr>\n",
       "    <tr>\n",
       "      <th>2</th>\n",
       "      <td>Adrian College</td>\n",
       "      <td>Yes</td>\n",
       "      <td>1428</td>\n",
       "      <td>1097</td>\n",
       "      <td>336</td>\n",
       "      <td>22</td>\n",
       "      <td>50</td>\n",
       "      <td>1036</td>\n",
       "      <td>99</td>\n",
       "      <td>11250</td>\n",
       "      <td>3750</td>\n",
       "      <td>400</td>\n",
       "      <td>1165</td>\n",
       "      <td>53</td>\n",
       "      <td>66</td>\n",
       "      <td>12.9</td>\n",
       "      <td>30</td>\n",
       "      <td>8735</td>\n",
       "      <td>54</td>\n",
       "    </tr>\n",
       "    <tr>\n",
       "      <th>3</th>\n",
       "      <td>Agnes Scott College</td>\n",
       "      <td>Yes</td>\n",
       "      <td>417</td>\n",
       "      <td>349</td>\n",
       "      <td>137</td>\n",
       "      <td>60</td>\n",
       "      <td>89</td>\n",
       "      <td>510</td>\n",
       "      <td>63</td>\n",
       "      <td>12960</td>\n",
       "      <td>5450</td>\n",
       "      <td>450</td>\n",
       "      <td>875</td>\n",
       "      <td>92</td>\n",
       "      <td>97</td>\n",
       "      <td>7.7</td>\n",
       "      <td>37</td>\n",
       "      <td>19016</td>\n",
       "      <td>59</td>\n",
       "    </tr>\n",
       "    <tr>\n",
       "      <th>4</th>\n",
       "      <td>Alaska Pacific University</td>\n",
       "      <td>Yes</td>\n",
       "      <td>193</td>\n",
       "      <td>146</td>\n",
       "      <td>55</td>\n",
       "      <td>16</td>\n",
       "      <td>44</td>\n",
       "      <td>249</td>\n",
       "      <td>869</td>\n",
       "      <td>7560</td>\n",
       "      <td>4120</td>\n",
       "      <td>800</td>\n",
       "      <td>1500</td>\n",
       "      <td>76</td>\n",
       "      <td>72</td>\n",
       "      <td>11.9</td>\n",
       "      <td>2</td>\n",
       "      <td>10922</td>\n",
       "      <td>15</td>\n",
       "    </tr>\n",
       "  </tbody>\n",
       "</table>\n",
       "</div>"
      ],
      "text/plain": [
       "                     Unnamed: 0 Private  Apps  Accept  Enroll  Top10perc  \\\n",
       "0  Abilene Christian University     Yes  1660    1232     721         23   \n",
       "1            Adelphi University     Yes  2186    1924     512         16   \n",
       "2                Adrian College     Yes  1428    1097     336         22   \n",
       "3           Agnes Scott College     Yes   417     349     137         60   \n",
       "4     Alaska Pacific University     Yes   193     146      55         16   \n",
       "\n",
       "   Top25perc  F.Undergrad  P.Undergrad  Outstate  Room.Board  Books  Personal  \\\n",
       "0         52         2885          537      7440        3300    450      2200   \n",
       "1         29         2683         1227     12280        6450    750      1500   \n",
       "2         50         1036           99     11250        3750    400      1165   \n",
       "3         89          510           63     12960        5450    450       875   \n",
       "4         44          249          869      7560        4120    800      1500   \n",
       "\n",
       "   PhD  Terminal  S.F.Ratio  perc.alumni  Expend  Grad.Rate  \n",
       "0   70        78       18.1           12    7041         60  \n",
       "1   29        30       12.2           16   10527         56  \n",
       "2   53        66       12.9           30    8735         54  \n",
       "3   92        97        7.7           37   19016         59  \n",
       "4   76        72       11.9            2   10922         15  "
      ]
     },
     "execution_count": 6,
     "metadata": {},
     "output_type": "execute_result"
    }
   ],
   "source": [
    "college.head()"
   ]
  },
  {
   "cell_type": "markdown",
   "metadata": {},
   "source": [
    "#### (b) Look at the data used in the notebook by creating and running a new cell with just the code `college` in it. Notice that the first column is named `Unnamed: 0`. We don't want `pandas` to treat this as data. However, it may be handy to have these names for later. We'll use the following command to recast the index."
   ]
  },
  {
   "cell_type": "code",
   "execution_count": 7,
   "metadata": {},
   "outputs": [],
   "source": [
    "college2 = pd.read_csv('College.csv', index_col=0)\n",
    "college3 = college.rename({'Unnamed: 0' : 'College'}, axis=1)\n",
    "college3 = college3.set_index('College')"
   ]
  },
  {
   "cell_type": "markdown",
   "metadata": {},
   "source": [
    "Printing out the DataFrames shows the changes:"
   ]
  },
  {
   "cell_type": "code",
   "execution_count": 8,
   "metadata": {},
   "outputs": [
    {
     "data": {
      "text/html": [
       "<div>\n",
       "<style scoped>\n",
       "    .dataframe tbody tr th:only-of-type {\n",
       "        vertical-align: middle;\n",
       "    }\n",
       "\n",
       "    .dataframe tbody tr th {\n",
       "        vertical-align: top;\n",
       "    }\n",
       "\n",
       "    .dataframe thead th {\n",
       "        text-align: right;\n",
       "    }\n",
       "</style>\n",
       "<table border=\"1\" class=\"dataframe\">\n",
       "  <thead>\n",
       "    <tr style=\"text-align: right;\">\n",
       "      <th></th>\n",
       "      <th>Private</th>\n",
       "      <th>Apps</th>\n",
       "      <th>Accept</th>\n",
       "      <th>Enroll</th>\n",
       "      <th>Top10perc</th>\n",
       "      <th>Top25perc</th>\n",
       "      <th>F.Undergrad</th>\n",
       "      <th>P.Undergrad</th>\n",
       "      <th>Outstate</th>\n",
       "      <th>Room.Board</th>\n",
       "      <th>Books</th>\n",
       "      <th>Personal</th>\n",
       "      <th>PhD</th>\n",
       "      <th>Terminal</th>\n",
       "      <th>S.F.Ratio</th>\n",
       "      <th>perc.alumni</th>\n",
       "      <th>Expend</th>\n",
       "      <th>Grad.Rate</th>\n",
       "    </tr>\n",
       "  </thead>\n",
       "  <tbody>\n",
       "    <tr>\n",
       "      <th>Abilene Christian University</th>\n",
       "      <td>Yes</td>\n",
       "      <td>1660</td>\n",
       "      <td>1232</td>\n",
       "      <td>721</td>\n",
       "      <td>23</td>\n",
       "      <td>52</td>\n",
       "      <td>2885</td>\n",
       "      <td>537</td>\n",
       "      <td>7440</td>\n",
       "      <td>3300</td>\n",
       "      <td>450</td>\n",
       "      <td>2200</td>\n",
       "      <td>70</td>\n",
       "      <td>78</td>\n",
       "      <td>18.1</td>\n",
       "      <td>12</td>\n",
       "      <td>7041</td>\n",
       "      <td>60</td>\n",
       "    </tr>\n",
       "    <tr>\n",
       "      <th>Adelphi University</th>\n",
       "      <td>Yes</td>\n",
       "      <td>2186</td>\n",
       "      <td>1924</td>\n",
       "      <td>512</td>\n",
       "      <td>16</td>\n",
       "      <td>29</td>\n",
       "      <td>2683</td>\n",
       "      <td>1227</td>\n",
       "      <td>12280</td>\n",
       "      <td>6450</td>\n",
       "      <td>750</td>\n",
       "      <td>1500</td>\n",
       "      <td>29</td>\n",
       "      <td>30</td>\n",
       "      <td>12.2</td>\n",
       "      <td>16</td>\n",
       "      <td>10527</td>\n",
       "      <td>56</td>\n",
       "    </tr>\n",
       "    <tr>\n",
       "      <th>Adrian College</th>\n",
       "      <td>Yes</td>\n",
       "      <td>1428</td>\n",
       "      <td>1097</td>\n",
       "      <td>336</td>\n",
       "      <td>22</td>\n",
       "      <td>50</td>\n",
       "      <td>1036</td>\n",
       "      <td>99</td>\n",
       "      <td>11250</td>\n",
       "      <td>3750</td>\n",
       "      <td>400</td>\n",
       "      <td>1165</td>\n",
       "      <td>53</td>\n",
       "      <td>66</td>\n",
       "      <td>12.9</td>\n",
       "      <td>30</td>\n",
       "      <td>8735</td>\n",
       "      <td>54</td>\n",
       "    </tr>\n",
       "    <tr>\n",
       "      <th>Agnes Scott College</th>\n",
       "      <td>Yes</td>\n",
       "      <td>417</td>\n",
       "      <td>349</td>\n",
       "      <td>137</td>\n",
       "      <td>60</td>\n",
       "      <td>89</td>\n",
       "      <td>510</td>\n",
       "      <td>63</td>\n",
       "      <td>12960</td>\n",
       "      <td>5450</td>\n",
       "      <td>450</td>\n",
       "      <td>875</td>\n",
       "      <td>92</td>\n",
       "      <td>97</td>\n",
       "      <td>7.7</td>\n",
       "      <td>37</td>\n",
       "      <td>19016</td>\n",
       "      <td>59</td>\n",
       "    </tr>\n",
       "    <tr>\n",
       "      <th>Alaska Pacific University</th>\n",
       "      <td>Yes</td>\n",
       "      <td>193</td>\n",
       "      <td>146</td>\n",
       "      <td>55</td>\n",
       "      <td>16</td>\n",
       "      <td>44</td>\n",
       "      <td>249</td>\n",
       "      <td>869</td>\n",
       "      <td>7560</td>\n",
       "      <td>4120</td>\n",
       "      <td>800</td>\n",
       "      <td>1500</td>\n",
       "      <td>76</td>\n",
       "      <td>72</td>\n",
       "      <td>11.9</td>\n",
       "      <td>2</td>\n",
       "      <td>10922</td>\n",
       "      <td>15</td>\n",
       "    </tr>\n",
       "  </tbody>\n",
       "</table>\n",
       "</div>"
      ],
      "text/plain": [
       "                             Private  Apps  Accept  Enroll  Top10perc  \\\n",
       "Abilene Christian University     Yes  1660    1232     721         23   \n",
       "Adelphi University               Yes  2186    1924     512         16   \n",
       "Adrian College                   Yes  1428    1097     336         22   \n",
       "Agnes Scott College              Yes   417     349     137         60   \n",
       "Alaska Pacific University        Yes   193     146      55         16   \n",
       "\n",
       "                              Top25perc  F.Undergrad  P.Undergrad  Outstate  \\\n",
       "Abilene Christian University         52         2885          537      7440   \n",
       "Adelphi University                   29         2683         1227     12280   \n",
       "Adrian College                       50         1036           99     11250   \n",
       "Agnes Scott College                  89          510           63     12960   \n",
       "Alaska Pacific University            44          249          869      7560   \n",
       "\n",
       "                              Room.Board  Books  Personal  PhD  Terminal  \\\n",
       "Abilene Christian University        3300    450      2200   70        78   \n",
       "Adelphi University                  6450    750      1500   29        30   \n",
       "Adrian College                      3750    400      1165   53        66   \n",
       "Agnes Scott College                 5450    450       875   92        97   \n",
       "Alaska Pacific University           4120    800      1500   76        72   \n",
       "\n",
       "                              S.F.Ratio  perc.alumni  Expend  Grad.Rate  \n",
       "Abilene Christian University       18.1           12    7041         60  \n",
       "Adelphi University                 12.2           16   10527         56  \n",
       "Adrian College                     12.9           30    8735         54  \n",
       "Agnes Scott College                 7.7           37   19016         59  \n",
       "Alaska Pacific University          11.9            2   10922         15  "
      ]
     },
     "metadata": {},
     "output_type": "display_data"
    },
    {
     "data": {
      "text/html": [
       "<div>\n",
       "<style scoped>\n",
       "    .dataframe tbody tr th:only-of-type {\n",
       "        vertical-align: middle;\n",
       "    }\n",
       "\n",
       "    .dataframe tbody tr th {\n",
       "        vertical-align: top;\n",
       "    }\n",
       "\n",
       "    .dataframe thead th {\n",
       "        text-align: right;\n",
       "    }\n",
       "</style>\n",
       "<table border=\"1\" class=\"dataframe\">\n",
       "  <thead>\n",
       "    <tr style=\"text-align: right;\">\n",
       "      <th></th>\n",
       "      <th>Private</th>\n",
       "      <th>Apps</th>\n",
       "      <th>Accept</th>\n",
       "      <th>Enroll</th>\n",
       "      <th>Top10perc</th>\n",
       "      <th>Top25perc</th>\n",
       "      <th>F.Undergrad</th>\n",
       "      <th>P.Undergrad</th>\n",
       "      <th>Outstate</th>\n",
       "      <th>Room.Board</th>\n",
       "      <th>Books</th>\n",
       "      <th>Personal</th>\n",
       "      <th>PhD</th>\n",
       "      <th>Terminal</th>\n",
       "      <th>S.F.Ratio</th>\n",
       "      <th>perc.alumni</th>\n",
       "      <th>Expend</th>\n",
       "      <th>Grad.Rate</th>\n",
       "    </tr>\n",
       "    <tr>\n",
       "      <th>College</th>\n",
       "      <th></th>\n",
       "      <th></th>\n",
       "      <th></th>\n",
       "      <th></th>\n",
       "      <th></th>\n",
       "      <th></th>\n",
       "      <th></th>\n",
       "      <th></th>\n",
       "      <th></th>\n",
       "      <th></th>\n",
       "      <th></th>\n",
       "      <th></th>\n",
       "      <th></th>\n",
       "      <th></th>\n",
       "      <th></th>\n",
       "      <th></th>\n",
       "      <th></th>\n",
       "      <th></th>\n",
       "    </tr>\n",
       "  </thead>\n",
       "  <tbody>\n",
       "    <tr>\n",
       "      <th>Abilene Christian University</th>\n",
       "      <td>Yes</td>\n",
       "      <td>1660</td>\n",
       "      <td>1232</td>\n",
       "      <td>721</td>\n",
       "      <td>23</td>\n",
       "      <td>52</td>\n",
       "      <td>2885</td>\n",
       "      <td>537</td>\n",
       "      <td>7440</td>\n",
       "      <td>3300</td>\n",
       "      <td>450</td>\n",
       "      <td>2200</td>\n",
       "      <td>70</td>\n",
       "      <td>78</td>\n",
       "      <td>18.1</td>\n",
       "      <td>12</td>\n",
       "      <td>7041</td>\n",
       "      <td>60</td>\n",
       "    </tr>\n",
       "    <tr>\n",
       "      <th>Adelphi University</th>\n",
       "      <td>Yes</td>\n",
       "      <td>2186</td>\n",
       "      <td>1924</td>\n",
       "      <td>512</td>\n",
       "      <td>16</td>\n",
       "      <td>29</td>\n",
       "      <td>2683</td>\n",
       "      <td>1227</td>\n",
       "      <td>12280</td>\n",
       "      <td>6450</td>\n",
       "      <td>750</td>\n",
       "      <td>1500</td>\n",
       "      <td>29</td>\n",
       "      <td>30</td>\n",
       "      <td>12.2</td>\n",
       "      <td>16</td>\n",
       "      <td>10527</td>\n",
       "      <td>56</td>\n",
       "    </tr>\n",
       "    <tr>\n",
       "      <th>Adrian College</th>\n",
       "      <td>Yes</td>\n",
       "      <td>1428</td>\n",
       "      <td>1097</td>\n",
       "      <td>336</td>\n",
       "      <td>22</td>\n",
       "      <td>50</td>\n",
       "      <td>1036</td>\n",
       "      <td>99</td>\n",
       "      <td>11250</td>\n",
       "      <td>3750</td>\n",
       "      <td>400</td>\n",
       "      <td>1165</td>\n",
       "      <td>53</td>\n",
       "      <td>66</td>\n",
       "      <td>12.9</td>\n",
       "      <td>30</td>\n",
       "      <td>8735</td>\n",
       "      <td>54</td>\n",
       "    </tr>\n",
       "    <tr>\n",
       "      <th>Agnes Scott College</th>\n",
       "      <td>Yes</td>\n",
       "      <td>417</td>\n",
       "      <td>349</td>\n",
       "      <td>137</td>\n",
       "      <td>60</td>\n",
       "      <td>89</td>\n",
       "      <td>510</td>\n",
       "      <td>63</td>\n",
       "      <td>12960</td>\n",
       "      <td>5450</td>\n",
       "      <td>450</td>\n",
       "      <td>875</td>\n",
       "      <td>92</td>\n",
       "      <td>97</td>\n",
       "      <td>7.7</td>\n",
       "      <td>37</td>\n",
       "      <td>19016</td>\n",
       "      <td>59</td>\n",
       "    </tr>\n",
       "    <tr>\n",
       "      <th>Alaska Pacific University</th>\n",
       "      <td>Yes</td>\n",
       "      <td>193</td>\n",
       "      <td>146</td>\n",
       "      <td>55</td>\n",
       "      <td>16</td>\n",
       "      <td>44</td>\n",
       "      <td>249</td>\n",
       "      <td>869</td>\n",
       "      <td>7560</td>\n",
       "      <td>4120</td>\n",
       "      <td>800</td>\n",
       "      <td>1500</td>\n",
       "      <td>76</td>\n",
       "      <td>72</td>\n",
       "      <td>11.9</td>\n",
       "      <td>2</td>\n",
       "      <td>10922</td>\n",
       "      <td>15</td>\n",
       "    </tr>\n",
       "  </tbody>\n",
       "</table>\n",
       "</div>"
      ],
      "text/plain": [
       "                             Private  Apps  Accept  Enroll  Top10perc  \\\n",
       "College                                                                 \n",
       "Abilene Christian University     Yes  1660    1232     721         23   \n",
       "Adelphi University               Yes  2186    1924     512         16   \n",
       "Adrian College                   Yes  1428    1097     336         22   \n",
       "Agnes Scott College              Yes   417     349     137         60   \n",
       "Alaska Pacific University        Yes   193     146      55         16   \n",
       "\n",
       "                              Top25perc  F.Undergrad  P.Undergrad  Outstate  \\\n",
       "College                                                                       \n",
       "Abilene Christian University         52         2885          537      7440   \n",
       "Adelphi University                   29         2683         1227     12280   \n",
       "Adrian College                       50         1036           99     11250   \n",
       "Agnes Scott College                  89          510           63     12960   \n",
       "Alaska Pacific University            44          249          869      7560   \n",
       "\n",
       "                              Room.Board  Books  Personal  PhD  Terminal  \\\n",
       "College                                                                    \n",
       "Abilene Christian University        3300    450      2200   70        78   \n",
       "Adelphi University                  6450    750      1500   29        30   \n",
       "Adrian College                      3750    400      1165   53        66   \n",
       "Agnes Scott College                 5450    450       875   92        97   \n",
       "Alaska Pacific University           4120    800      1500   76        72   \n",
       "\n",
       "                              S.F.Ratio  perc.alumni  Expend  Grad.Rate  \n",
       "College                                                                  \n",
       "Abilene Christian University       18.1           12    7041         60  \n",
       "Adelphi University                 12.2           16   10527         56  \n",
       "Adrian College                     12.9           30    8735         54  \n",
       "Agnes Scott College                 7.7           37   19016         59  \n",
       "Alaska Pacific University          11.9            2   10922         15  "
      ]
     },
     "metadata": {},
     "output_type": "display_data"
    }
   ],
   "source": [
    "display(college2.head())\n",
    "display(college3.head())"
   ]
  },
  {
   "cell_type": "markdown",
   "metadata": {},
   "source": [
    "Note that for `college3` we have the index named `College` instead of no index name in `college2`. We save `college3` for continual use."
   ]
  },
  {
   "cell_type": "code",
   "execution_count": 9,
   "metadata": {},
   "outputs": [],
   "source": [
    "college = college3"
   ]
  },
  {
   "cell_type": "markdown",
   "metadata": {},
   "source": [
    "#### (c) Use the `describe()` method to produce a numerical summary of the variables in the data set."
   ]
  },
  {
   "cell_type": "markdown",
   "metadata": {},
   "source": [
    "**Answer:**"
   ]
  },
  {
   "cell_type": "code",
   "execution_count": 10,
   "metadata": {},
   "outputs": [
    {
     "data": {
      "text/html": [
       "<div>\n",
       "<style scoped>\n",
       "    .dataframe tbody tr th:only-of-type {\n",
       "        vertical-align: middle;\n",
       "    }\n",
       "\n",
       "    .dataframe tbody tr th {\n",
       "        vertical-align: top;\n",
       "    }\n",
       "\n",
       "    .dataframe thead th {\n",
       "        text-align: right;\n",
       "    }\n",
       "</style>\n",
       "<table border=\"1\" class=\"dataframe\">\n",
       "  <thead>\n",
       "    <tr style=\"text-align: right;\">\n",
       "      <th></th>\n",
       "      <th>Apps</th>\n",
       "      <th>Accept</th>\n",
       "      <th>Enroll</th>\n",
       "      <th>Top10perc</th>\n",
       "      <th>Top25perc</th>\n",
       "      <th>F.Undergrad</th>\n",
       "      <th>P.Undergrad</th>\n",
       "      <th>Outstate</th>\n",
       "      <th>Room.Board</th>\n",
       "      <th>Books</th>\n",
       "      <th>Personal</th>\n",
       "      <th>PhD</th>\n",
       "      <th>Terminal</th>\n",
       "      <th>S.F.Ratio</th>\n",
       "      <th>perc.alumni</th>\n",
       "      <th>Expend</th>\n",
       "      <th>Grad.Rate</th>\n",
       "    </tr>\n",
       "  </thead>\n",
       "  <tbody>\n",
       "    <tr>\n",
       "      <th>count</th>\n",
       "      <td>777.000000</td>\n",
       "      <td>777.000000</td>\n",
       "      <td>777.000000</td>\n",
       "      <td>777.000000</td>\n",
       "      <td>777.000000</td>\n",
       "      <td>777.000000</td>\n",
       "      <td>777.000000</td>\n",
       "      <td>777.000000</td>\n",
       "      <td>777.000000</td>\n",
       "      <td>777.000000</td>\n",
       "      <td>777.000000</td>\n",
       "      <td>777.000000</td>\n",
       "      <td>777.000000</td>\n",
       "      <td>777.000000</td>\n",
       "      <td>777.000000</td>\n",
       "      <td>777.000000</td>\n",
       "      <td>777.00000</td>\n",
       "    </tr>\n",
       "    <tr>\n",
       "      <th>mean</th>\n",
       "      <td>3001.638353</td>\n",
       "      <td>2018.804376</td>\n",
       "      <td>779.972973</td>\n",
       "      <td>27.558559</td>\n",
       "      <td>55.796654</td>\n",
       "      <td>3699.907336</td>\n",
       "      <td>855.298584</td>\n",
       "      <td>10440.669241</td>\n",
       "      <td>4357.526384</td>\n",
       "      <td>549.380952</td>\n",
       "      <td>1340.642214</td>\n",
       "      <td>72.660232</td>\n",
       "      <td>79.702703</td>\n",
       "      <td>14.089704</td>\n",
       "      <td>22.743887</td>\n",
       "      <td>9660.171171</td>\n",
       "      <td>65.46332</td>\n",
       "    </tr>\n",
       "    <tr>\n",
       "      <th>std</th>\n",
       "      <td>3870.201484</td>\n",
       "      <td>2451.113971</td>\n",
       "      <td>929.176190</td>\n",
       "      <td>17.640364</td>\n",
       "      <td>19.804778</td>\n",
       "      <td>4850.420531</td>\n",
       "      <td>1522.431887</td>\n",
       "      <td>4023.016484</td>\n",
       "      <td>1096.696416</td>\n",
       "      <td>165.105360</td>\n",
       "      <td>677.071454</td>\n",
       "      <td>16.328155</td>\n",
       "      <td>14.722359</td>\n",
       "      <td>3.958349</td>\n",
       "      <td>12.391801</td>\n",
       "      <td>5221.768440</td>\n",
       "      <td>17.17771</td>\n",
       "    </tr>\n",
       "    <tr>\n",
       "      <th>min</th>\n",
       "      <td>81.000000</td>\n",
       "      <td>72.000000</td>\n",
       "      <td>35.000000</td>\n",
       "      <td>1.000000</td>\n",
       "      <td>9.000000</td>\n",
       "      <td>139.000000</td>\n",
       "      <td>1.000000</td>\n",
       "      <td>2340.000000</td>\n",
       "      <td>1780.000000</td>\n",
       "      <td>96.000000</td>\n",
       "      <td>250.000000</td>\n",
       "      <td>8.000000</td>\n",
       "      <td>24.000000</td>\n",
       "      <td>2.500000</td>\n",
       "      <td>0.000000</td>\n",
       "      <td>3186.000000</td>\n",
       "      <td>10.00000</td>\n",
       "    </tr>\n",
       "    <tr>\n",
       "      <th>25%</th>\n",
       "      <td>776.000000</td>\n",
       "      <td>604.000000</td>\n",
       "      <td>242.000000</td>\n",
       "      <td>15.000000</td>\n",
       "      <td>41.000000</td>\n",
       "      <td>992.000000</td>\n",
       "      <td>95.000000</td>\n",
       "      <td>7320.000000</td>\n",
       "      <td>3597.000000</td>\n",
       "      <td>470.000000</td>\n",
       "      <td>850.000000</td>\n",
       "      <td>62.000000</td>\n",
       "      <td>71.000000</td>\n",
       "      <td>11.500000</td>\n",
       "      <td>13.000000</td>\n",
       "      <td>6751.000000</td>\n",
       "      <td>53.00000</td>\n",
       "    </tr>\n",
       "    <tr>\n",
       "      <th>50%</th>\n",
       "      <td>1558.000000</td>\n",
       "      <td>1110.000000</td>\n",
       "      <td>434.000000</td>\n",
       "      <td>23.000000</td>\n",
       "      <td>54.000000</td>\n",
       "      <td>1707.000000</td>\n",
       "      <td>353.000000</td>\n",
       "      <td>9990.000000</td>\n",
       "      <td>4200.000000</td>\n",
       "      <td>500.000000</td>\n",
       "      <td>1200.000000</td>\n",
       "      <td>75.000000</td>\n",
       "      <td>82.000000</td>\n",
       "      <td>13.600000</td>\n",
       "      <td>21.000000</td>\n",
       "      <td>8377.000000</td>\n",
       "      <td>65.00000</td>\n",
       "    </tr>\n",
       "    <tr>\n",
       "      <th>75%</th>\n",
       "      <td>3624.000000</td>\n",
       "      <td>2424.000000</td>\n",
       "      <td>902.000000</td>\n",
       "      <td>35.000000</td>\n",
       "      <td>69.000000</td>\n",
       "      <td>4005.000000</td>\n",
       "      <td>967.000000</td>\n",
       "      <td>12925.000000</td>\n",
       "      <td>5050.000000</td>\n",
       "      <td>600.000000</td>\n",
       "      <td>1700.000000</td>\n",
       "      <td>85.000000</td>\n",
       "      <td>92.000000</td>\n",
       "      <td>16.500000</td>\n",
       "      <td>31.000000</td>\n",
       "      <td>10830.000000</td>\n",
       "      <td>78.00000</td>\n",
       "    </tr>\n",
       "    <tr>\n",
       "      <th>max</th>\n",
       "      <td>48094.000000</td>\n",
       "      <td>26330.000000</td>\n",
       "      <td>6392.000000</td>\n",
       "      <td>96.000000</td>\n",
       "      <td>100.000000</td>\n",
       "      <td>31643.000000</td>\n",
       "      <td>21836.000000</td>\n",
       "      <td>21700.000000</td>\n",
       "      <td>8124.000000</td>\n",
       "      <td>2340.000000</td>\n",
       "      <td>6800.000000</td>\n",
       "      <td>103.000000</td>\n",
       "      <td>100.000000</td>\n",
       "      <td>39.800000</td>\n",
       "      <td>64.000000</td>\n",
       "      <td>56233.000000</td>\n",
       "      <td>118.00000</td>\n",
       "    </tr>\n",
       "  </tbody>\n",
       "</table>\n",
       "</div>"
      ],
      "text/plain": [
       "               Apps        Accept       Enroll   Top10perc   Top25perc  \\\n",
       "count    777.000000    777.000000   777.000000  777.000000  777.000000   \n",
       "mean    3001.638353   2018.804376   779.972973   27.558559   55.796654   \n",
       "std     3870.201484   2451.113971   929.176190   17.640364   19.804778   \n",
       "min       81.000000     72.000000    35.000000    1.000000    9.000000   \n",
       "25%      776.000000    604.000000   242.000000   15.000000   41.000000   \n",
       "50%     1558.000000   1110.000000   434.000000   23.000000   54.000000   \n",
       "75%     3624.000000   2424.000000   902.000000   35.000000   69.000000   \n",
       "max    48094.000000  26330.000000  6392.000000   96.000000  100.000000   \n",
       "\n",
       "        F.Undergrad   P.Undergrad      Outstate   Room.Board        Books  \\\n",
       "count    777.000000    777.000000    777.000000   777.000000   777.000000   \n",
       "mean    3699.907336    855.298584  10440.669241  4357.526384   549.380952   \n",
       "std     4850.420531   1522.431887   4023.016484  1096.696416   165.105360   \n",
       "min      139.000000      1.000000   2340.000000  1780.000000    96.000000   \n",
       "25%      992.000000     95.000000   7320.000000  3597.000000   470.000000   \n",
       "50%     1707.000000    353.000000   9990.000000  4200.000000   500.000000   \n",
       "75%     4005.000000    967.000000  12925.000000  5050.000000   600.000000   \n",
       "max    31643.000000  21836.000000  21700.000000  8124.000000  2340.000000   \n",
       "\n",
       "          Personal         PhD    Terminal   S.F.Ratio  perc.alumni  \\\n",
       "count   777.000000  777.000000  777.000000  777.000000   777.000000   \n",
       "mean   1340.642214   72.660232   79.702703   14.089704    22.743887   \n",
       "std     677.071454   16.328155   14.722359    3.958349    12.391801   \n",
       "min     250.000000    8.000000   24.000000    2.500000     0.000000   \n",
       "25%     850.000000   62.000000   71.000000   11.500000    13.000000   \n",
       "50%    1200.000000   75.000000   82.000000   13.600000    21.000000   \n",
       "75%    1700.000000   85.000000   92.000000   16.500000    31.000000   \n",
       "max    6800.000000  103.000000  100.000000   39.800000    64.000000   \n",
       "\n",
       "             Expend  Grad.Rate  \n",
       "count    777.000000  777.00000  \n",
       "mean    9660.171171   65.46332  \n",
       "std     5221.768440   17.17771  \n",
       "min     3186.000000   10.00000  \n",
       "25%     6751.000000   53.00000  \n",
       "50%     8377.000000   65.00000  \n",
       "75%    10830.000000   78.00000  \n",
       "max    56233.000000  118.00000  "
      ]
     },
     "execution_count": 10,
     "metadata": {},
     "output_type": "execute_result"
    }
   ],
   "source": [
    "college.describe()"
   ]
  },
  {
   "cell_type": "markdown",
   "metadata": {},
   "source": [
    "#### (d) Use the `pd.plotting.scatter_matrix()` function to produce a scatterplot matrix of the first columns `[Top10perc, Apps, Enroll]`. Recall that you can reference a list `C` of columns of a data frame `A` using `A[C]`."
   ]
  },
  {
   "cell_type": "markdown",
   "metadata": {},
   "source": [
    "**Answer:**"
   ]
  },
  {
   "cell_type": "code",
   "execution_count": 11,
   "metadata": {},
   "outputs": [
    {
     "data": {
      "image/png": "[encoded data removed]",
      "text/plain": [
       "<Figure size 640x480 with 9 Axes>"
      ]
     },
     "metadata": {},
     "output_type": "display_data"
    }
   ],
   "source": [
    "# Set column list for plotting\n",
    "cols = ['Top10perc', 'Apps', 'Enroll']\n",
    "\n",
    "pd.plotting.scatter_matrix(college[cols])\n",
    "plt.show()"
   ]
  },
  {
   "cell_type": "markdown",
   "metadata": {},
   "source": [
    "#### (e) Use the `boxplot()` method of `college` to produce side-by-side boxplots of `Outstate` versus `Private`."
   ]
  },
  {
   "cell_type": "markdown",
   "metadata": {},
   "source": [
    "**Answer:**"
   ]
  },
  {
   "cell_type": "code",
   "execution_count": 12,
   "metadata": {},
   "outputs": [
    {
     "data": {
      "image/png": "[encoded data removed]",
      "text/plain": [
       "<Figure size 800x800 with 1 Axes>"
      ]
     },
     "metadata": {},
     "output_type": "display_data"
    }
   ],
   "source": [
    "fig, ax = plt.subplots(figsize=(8,8))\n",
    "college.boxplot(column='Outstate', by='Private', ax=ax)\n",
    "plt.show()"
   ]
  },
  {
   "cell_type": "markdown",
   "metadata": {},
   "source": [
    "#### (f) Create a new qualitative variable, called `Elite`, by *binning* the `Top10perc` variable into two groups based on whether or not the proportion of students coming form the top 10% of their high school classes exceeds 50%."
   ]
  },
  {
   "cell_type": "code",
   "execution_count": 13,
   "metadata": {},
   "outputs": [],
   "source": [
    "college['Elite'] = pd.cut(college['Top10perc'],\n",
    "                          [0, 50, 100],\n",
    "                          labels=['No', 'Yes'])"
   ]
  },
  {
   "cell_type": "markdown",
   "metadata": {},
   "source": [
    "Use the `value_counts()` method of `college['Elite']` to see how mnay elite universities there are. Finally, use the `boxplot()` method again to produce side-by-side boxplots of `Outstate` verses `Elite`."
   ]
  },
  {
   "cell_type": "markdown",
   "metadata": {},
   "source": [
    "**Answer:**"
   ]
  },
  {
   "cell_type": "code",
   "execution_count": 14,
   "metadata": {},
   "outputs": [
    {
     "data": {
      "text/plain": [
       "Elite\n",
       "No     699\n",
       "Yes     78\n",
       "Name: count, dtype: int64"
      ]
     },
     "execution_count": 14,
     "metadata": {},
     "output_type": "execute_result"
    }
   ],
   "source": [
    "# See how many elite universities there are\n",
    "college['Elite'].value_counts()"
   ]
  },
  {
   "cell_type": "code",
   "execution_count": 15,
   "metadata": {},
   "outputs": [
    {
     "data": {
      "image/png": "[encoded data removed]",
      "text/plain": [
       "<Figure size 640x480 with 1 Axes>"
      ]
     },
     "metadata": {},
     "output_type": "display_data"
    }
   ],
   "source": [
    "# Produce side-by-side boxplots of Outstate verses Elite\n",
    "college.boxplot(column='Outstate', by='Elite')\n",
    "plt.show()"
   ]
  },
  {
   "cell_type": "markdown",
   "metadata": {},
   "source": [
    "#### (g) Use the `plot.hist()` method of `college` to produce some histograms with different numbers of bins for a few of the quantitative variables. Hint: the `plt.subplots(2,2)` may be useful."
   ]
  },
  {
   "cell_type": "markdown",
   "metadata": {},
   "source": [
    "**Answer:**"
   ]
  },
  {
   "cell_type": "code",
   "execution_count": 16,
   "metadata": {},
   "outputs": [
    {
     "data": {
      "image/png": "[encoded data removed]",
      "text/plain": [
       "<Figure size 800x800 with 4 Axes>"
      ]
     },
     "metadata": {},
     "output_type": "display_data"
    }
   ],
   "source": [
    "# Set the plot figure\n",
    "fig, axes = plt.subplots(2,2, figsize=(8,8))\n",
    "\n",
    "# Plot some histograms\n",
    "college['Terminal'].plot.hist(ax=axes[0,0],bins=20)\n",
    "axes[0,0].set_title('Terminal')\n",
    "\n",
    "college['Books'].plot.hist(ax=axes[0,1], bins=5)\n",
    "axes[0,1].set_title('Books')\n",
    "\n",
    "college['Grad.Rate'].plot.hist(ax=axes[1,0], bins=10)\n",
    "axes[1,0].set_title('Grad.Rate')\n",
    "\n",
    "college['Room.Board'].plot.hist(ax=axes[1,1], bins=30)\n",
    "axes[1,1].set_title('Room.Board')\n",
    "\n",
    "plt.show() # Plot the figure"
   ]
  },
  {
   "cell_type": "markdown",
   "metadata": {},
   "source": [
    "#### (h) Continue exploring the data, and provide a brief summary of what you discover."
   ]
  },
  {
   "cell_type": "markdown",
   "metadata": {},
   "source": [
    "Skipping this EDA for sake of time."
   ]
  },
  {
   "cell_type": "markdown",
   "metadata": {},
   "source": [
    "### Question 9"
   ]
  },
  {
   "cell_type": "markdown",
   "metadata": {},
   "source": [
    "This exercise involves the `Auto` dataset studied in the lab. Make sure the missing values have been removed from the data."
   ]
  },
  {
   "cell_type": "code",
   "execution_count": 17,
   "metadata": {},
   "outputs": [],
   "source": [
    "# Load necessary packages\n",
    "import pandas as pd\n",
    "\n",
    "# Load the data\n",
    "auto = pd.read_csv('Auto.data', na_values=['?'], sep='\\\\s+')\n",
    "\n",
    "# Drop na values\n",
    "auto = auto.dropna()"
   ]
  },
  {
   "cell_type": "markdown",
   "metadata": {},
   "source": [
    "#### (a) Which of the predictors are quantitative, and which are qualitative?"
   ]
  },
  {
   "cell_type": "markdown",
   "metadata": {},
   "source": [
    "**Answer:** First, we view the first few rows of the dataset."
   ]
  },
  {
   "cell_type": "code",
   "execution_count": 18,
   "metadata": {},
   "outputs": [
    {
     "data": {
      "text/html": [
       "<div>\n",
       "<style scoped>\n",
       "    .dataframe tbody tr th:only-of-type {\n",
       "        vertical-align: middle;\n",
       "    }\n",
       "\n",
       "    .dataframe tbody tr th {\n",
       "        vertical-align: top;\n",
       "    }\n",
       "\n",
       "    .dataframe thead th {\n",
       "        text-align: right;\n",
       "    }\n",
       "</style>\n",
       "<table border=\"1\" class=\"dataframe\">\n",
       "  <thead>\n",
       "    <tr style=\"text-align: right;\">\n",
       "      <th></th>\n",
       "      <th>mpg</th>\n",
       "      <th>cylinders</th>\n",
       "      <th>displacement</th>\n",
       "      <th>horsepower</th>\n",
       "      <th>weight</th>\n",
       "      <th>acceleration</th>\n",
       "      <th>year</th>\n",
       "      <th>origin</th>\n",
       "      <th>name</th>\n",
       "    </tr>\n",
       "  </thead>\n",
       "  <tbody>\n",
       "    <tr>\n",
       "      <th>0</th>\n",
       "      <td>18.0</td>\n",
       "      <td>8</td>\n",
       "      <td>307.0</td>\n",
       "      <td>130.0</td>\n",
       "      <td>3504.0</td>\n",
       "      <td>12.0</td>\n",
       "      <td>70</td>\n",
       "      <td>1</td>\n",
       "      <td>chevrolet chevelle malibu</td>\n",
       "    </tr>\n",
       "    <tr>\n",
       "      <th>1</th>\n",
       "      <td>15.0</td>\n",
       "      <td>8</td>\n",
       "      <td>350.0</td>\n",
       "      <td>165.0</td>\n",
       "      <td>3693.0</td>\n",
       "      <td>11.5</td>\n",
       "      <td>70</td>\n",
       "      <td>1</td>\n",
       "      <td>buick skylark 320</td>\n",
       "    </tr>\n",
       "    <tr>\n",
       "      <th>2</th>\n",
       "      <td>18.0</td>\n",
       "      <td>8</td>\n",
       "      <td>318.0</td>\n",
       "      <td>150.0</td>\n",
       "      <td>3436.0</td>\n",
       "      <td>11.0</td>\n",
       "      <td>70</td>\n",
       "      <td>1</td>\n",
       "      <td>plymouth satellite</td>\n",
       "    </tr>\n",
       "  </tbody>\n",
       "</table>\n",
       "</div>"
      ],
      "text/plain": [
       "    mpg  cylinders  displacement  horsepower  weight  acceleration  year  \\\n",
       "0  18.0          8         307.0       130.0  3504.0          12.0    70   \n",
       "1  15.0          8         350.0       165.0  3693.0          11.5    70   \n",
       "2  18.0          8         318.0       150.0  3436.0          11.0    70   \n",
       "\n",
       "   origin                       name  \n",
       "0       1  chevrolet chevelle malibu  \n",
       "1       1          buick skylark 320  \n",
       "2       1         plymouth satellite  "
      ]
     },
     "execution_count": 18,
     "metadata": {},
     "output_type": "execute_result"
    }
   ],
   "source": [
    "# View first 3 rows\n",
    "auto.head(n=3)"
   ]
  },
  {
   "cell_type": "markdown",
   "metadata": {},
   "source": [
    "We can see the following breakdown in the data:\n",
    "\n",
    "- Quantitative Predictors\n",
    "    - `mpg`\n",
    "    - `cylinders`\n",
    "    - `displacement`\n",
    "    - `horsepower`\n",
    "    - `weight`\n",
    "    - `acceleration`\n",
    "    - `year`\n",
    "- Qualitative Predictors\n",
    "    - `origin`\n",
    "    - `name`"
   ]
  },
  {
   "cell_type": "markdown",
   "metadata": {},
   "source": [
    "#### (b) What is the *range* of each quantitative predictor? (Hint: You can answer this using the `min()` and `max()` methods in `numpy`.)"
   ]
  },
  {
   "cell_type": "markdown",
   "metadata": {},
   "source": [
    "**Answer:** We find the following ranges for the quantitative predictors:"
   ]
  },
  {
   "cell_type": "code",
   "execution_count": 19,
   "metadata": {},
   "outputs": [
    {
     "name": "stdout",
     "output_type": "stream",
     "text": [
      "Range of mpg: 37.6\n",
      "Range of cylinders: 5\n",
      "Range of displacement: 387.0\n",
      "Range of horsepower: 184.0\n",
      "Range of weight: 3527.0\n",
      "Range of acceleration: 16.8\n",
      "Range of year: 12\n"
     ]
    }
   ],
   "source": [
    "# List of quantitative predictors\n",
    "quant_pred = [\n",
    "    'mpg',\n",
    "    'cylinders',\n",
    "    'displacement',\n",
    "    'horsepower',\n",
    "    'weight',\n",
    "    'acceleration',\n",
    "    'year'\n",
    "]\n",
    "\n",
    "for pred in quant_pred:\n",
    "    # Print out the range of the predictor\n",
    "    print(f'Range of {pred}: {np.max(auto[pred]) - np.min(auto[pred])}')"
   ]
  },
  {
   "cell_type": "markdown",
   "metadata": {},
   "source": [
    "#### (c) What is the mean and standard deviation of each quantitative predictor?"
   ]
  },
  {
   "cell_type": "markdown",
   "metadata": {},
   "source": [
    "**Answer:** Here is the mean and standard deviation of each quantitative predictor:"
   ]
  },
  {
   "cell_type": "code",
   "execution_count": 20,
   "metadata": {},
   "outputs": [
    {
     "name": "stdout",
     "output_type": "stream",
     "text": [
      "mpg - Mean: 23.45, Standard Deviation: 7.8\n",
      "cylinders - Mean: 5.47, Standard Deviation: 1.7\n",
      "displacement - Mean: 194.41, Standard Deviation: 104.51\n",
      "horsepower - Mean: 104.47, Standard Deviation: 38.44\n",
      "weight - Mean: 2977.58, Standard Deviation: 848.32\n",
      "acceleration - Mean: 15.54, Standard Deviation: 2.76\n",
      "year - Mean: 75.98, Standard Deviation: 3.68\n"
     ]
    }
   ],
   "source": [
    "for pred in quant_pred:\n",
    "    # Print out the mean\n",
    "    print(f'{pred} - Mean: {round(np.mean(auto[pred]),2)}, Standard Deviation: {round(np.std(auto[pred]),2)}')"
   ]
  },
  {
   "cell_type": "markdown",
   "metadata": {},
   "source": [
    "#### (d) Now remove the 10th through 85th observations. What is the range, mean, and standard deviation of each predictor in the subset of the data that remains?"
   ]
  },
  {
   "cell_type": "markdown",
   "metadata": {},
   "source": [
    "**Answer:** First we remove the 10th through 85th observations."
   ]
  },
  {
   "cell_type": "code",
   "execution_count": 21,
   "metadata": {},
   "outputs": [
    {
     "name": "stdout",
     "output_type": "stream",
     "text": [
      "mpg - Range: 35.6, Mean: 24.37, Standard Deviation: 7.8\n",
      "cylinders - Range: 5, Mean: 5.38, Standard Deviation: 1.7\n",
      "displacement - Range: 387.0, Mean: 187.88, Standard Deviation: 104.51\n",
      "horsepower - Range: 184.0, Mean: 101.0, Standard Deviation: 38.44\n",
      "weight - Range: 3348.0, Mean: 2938.85, Standard Deviation: 848.32\n",
      "acceleration - Range: 16.3, Mean: 15.7, Standard Deviation: 2.76\n",
      "year - Range: 12, Mean: 77.12, Standard Deviation: 3.68\n"
     ]
    }
   ],
   "source": [
    "# Create index list to subset to\n",
    "idx_list = [x for x in auto.index if x < 10 or x > 85]\n",
    "\n",
    "# Create subset\n",
    "auto_sub = auto[auto.index.isin(idx_list)].copy().reset_index(drop=True)\n",
    "\n",
    "# Print the range, mean, and standard deviatioon\n",
    "for pred in quant_pred:\n",
    "    print(f'{pred} - Range: {np.max(auto_sub[pred]) - np.min(auto_sub[pred])}, ' +\n",
    "        f'Mean: {round(np.mean(auto_sub[pred]),2)}, ' +\n",
    "        f'Standard Deviation: {round(np.std(auto[pred]),2)}')"
   ]
  },
  {
   "cell_type": "markdown",
   "metadata": {},
   "source": [
    "#### (e) Using the full dataset, investigate the predictors graphically, using scatterplots or other tools of your choice. Create some plots highlighting the relationship among the predictors. Comment on your findings."
   ]
  },
  {
   "cell_type": "markdown",
   "metadata": {},
   "source": [
    "**Answer:** Skipping this EDA for now."
   ]
  },
  {
   "cell_type": "markdown",
   "metadata": {},
   "source": [
    "#### (f) Suppose that we wish to predict gas mileage (`mpg`) on the basis of the other variables. Do your plots suggest that any of the other variables might be useful in predicting `mpg`? Justify your answer."
   ]
  },
  {
   "cell_type": "markdown",
   "metadata": {},
   "source": [
    "**Answer:** Skipping this EDA for now."
   ]
  },
  {
   "cell_type": "markdown",
   "metadata": {},
   "source": [
    "### Question 10"
   ]
  },
  {
   "cell_type": "markdown",
   "metadata": {},
   "source": [
    "This exercise involves the `Boston` housing dataset."
   ]
  },
  {
   "cell_type": "markdown",
   "metadata": {},
   "source": [
    "#### (a) To begin, load in the `Boston` data set, which is part of the `ISLP` library."
   ]
  },
  {
   "cell_type": "markdown",
   "metadata": {},
   "source": [
    "**Answer:**"
   ]
  },
  {
   "cell_type": "code",
   "execution_count": 35,
   "metadata": {},
   "outputs": [],
   "source": [
    "# Load in the dataset\n",
    "boston = pd.read_csv('Boston.csv')"
   ]
  },
  {
   "cell_type": "markdown",
   "metadata": {},
   "source": [
    "#### (b) How many rows are in this dataset? How many columns? What do the rows and columns represent?"
   ]
  },
  {
   "cell_type": "markdown",
   "metadata": {},
   "source": [
    "**Answer:** We can find out the number of rows and columns using the `shape` method from `pandas`."
   ]
  },
  {
   "cell_type": "code",
   "execution_count": 36,
   "metadata": {},
   "outputs": [
    {
     "data": {
      "text/plain": [
       "(506, 14)"
      ]
     },
     "execution_count": 36,
     "metadata": {},
     "output_type": "execute_result"
    }
   ],
   "source": [
    "# Get the number of (rows, columns) from the dataset\n",
    "boston.shape"
   ]
  },
  {
   "cell_type": "markdown",
   "metadata": {},
   "source": [
    "We see there are 506 rows and 14 columns. The rows represent each observation within the Boston housing dataset, and the columns represent each variable. More specifically, each row corresponds to a suburb of Boston. Each column corresponds to the following:\n",
    "\n",
    "- `crim`: per capita crime rate by town.\n",
    "- `zn`: proportion of residential land sonzed for lots over 25,000 sq.ft.\n",
    "- `indus`: proportion of non-retail business acres per town.\n",
    "- `chas`: Charles River dummy variable (1 if tract bounds river, 0 otherwise).\n",
    "- `nox`: nitrogen oxides concentration (parts per 10 million).\n",
    "- `rm`: average number of rooms per dwelling.\n",
    "- `age`: proportion of overner-occupied units built prior to 1940.\n",
    "- `dis`: weighted mean of distances to five Boston employment centers.\n",
    "- `rad`: index of accessibility to radial highways.\n",
    "- `tax`: full-value property-tax rate per $10,000.\n",
    "- `ptratio`: pupil-teacher ratio by town.\n",
    "- `lstat`: lower status of the population (percent)\n",
    "- `medv`: median value of owner-occupied homes in $1,000s.\n"
   ]
  },
  {
   "cell_type": "markdown",
   "metadata": {},
   "source": [
    "#### (c) Make some pairwise scatterplots of the predictors (columns) in this dataset. Describe your findings."
   ]
  },
  {
   "cell_type": "markdown",
   "metadata": {},
   "source": [
    "**Answer:** Note that all variables are quantitative, except for `chas` as it is a dummy indicator variable. Let's review the dataset to make sure it's in the right shape to pass to our plotting function."
   ]
  },
  {
   "cell_type": "code",
   "execution_count": 37,
   "metadata": {},
   "outputs": [
    {
     "data": {
      "text/html": [
       "<div>\n",
       "<style scoped>\n",
       "    .dataframe tbody tr th:only-of-type {\n",
       "        vertical-align: middle;\n",
       "    }\n",
       "\n",
       "    .dataframe tbody tr th {\n",
       "        vertical-align: top;\n",
       "    }\n",
       "\n",
       "    .dataframe thead th {\n",
       "        text-align: right;\n",
       "    }\n",
       "</style>\n",
       "<table border=\"1\" class=\"dataframe\">\n",
       "  <thead>\n",
       "    <tr style=\"text-align: right;\">\n",
       "      <th></th>\n",
       "      <th>Unnamed: 0</th>\n",
       "      <th>crim</th>\n",
       "      <th>zn</th>\n",
       "      <th>indus</th>\n",
       "      <th>chas</th>\n",
       "      <th>nox</th>\n",
       "      <th>rm</th>\n",
       "      <th>age</th>\n",
       "      <th>dis</th>\n",
       "      <th>rad</th>\n",
       "      <th>tax</th>\n",
       "      <th>ptratio</th>\n",
       "      <th>lstat</th>\n",
       "      <th>medv</th>\n",
       "    </tr>\n",
       "  </thead>\n",
       "  <tbody>\n",
       "    <tr>\n",
       "      <th>0</th>\n",
       "      <td>1</td>\n",
       "      <td>0.00632</td>\n",
       "      <td>18.0</td>\n",
       "      <td>2.31</td>\n",
       "      <td>0</td>\n",
       "      <td>0.538</td>\n",
       "      <td>6.575</td>\n",
       "      <td>65.2</td>\n",
       "      <td>4.0900</td>\n",
       "      <td>1</td>\n",
       "      <td>296</td>\n",
       "      <td>15.3</td>\n",
       "      <td>4.98</td>\n",
       "      <td>24.0</td>\n",
       "    </tr>\n",
       "    <tr>\n",
       "      <th>1</th>\n",
       "      <td>2</td>\n",
       "      <td>0.02731</td>\n",
       "      <td>0.0</td>\n",
       "      <td>7.07</td>\n",
       "      <td>0</td>\n",
       "      <td>0.469</td>\n",
       "      <td>6.421</td>\n",
       "      <td>78.9</td>\n",
       "      <td>4.9671</td>\n",
       "      <td>2</td>\n",
       "      <td>242</td>\n",
       "      <td>17.8</td>\n",
       "      <td>9.14</td>\n",
       "      <td>21.6</td>\n",
       "    </tr>\n",
       "    <tr>\n",
       "      <th>2</th>\n",
       "      <td>3</td>\n",
       "      <td>0.02729</td>\n",
       "      <td>0.0</td>\n",
       "      <td>7.07</td>\n",
       "      <td>0</td>\n",
       "      <td>0.469</td>\n",
       "      <td>7.185</td>\n",
       "      <td>61.1</td>\n",
       "      <td>4.9671</td>\n",
       "      <td>2</td>\n",
       "      <td>242</td>\n",
       "      <td>17.8</td>\n",
       "      <td>4.03</td>\n",
       "      <td>34.7</td>\n",
       "    </tr>\n",
       "  </tbody>\n",
       "</table>\n",
       "</div>"
      ],
      "text/plain": [
       "   Unnamed: 0     crim    zn  indus  chas    nox     rm   age     dis  rad  \\\n",
       "0           1  0.00632  18.0   2.31     0  0.538  6.575  65.2  4.0900    1   \n",
       "1           2  0.02731   0.0   7.07     0  0.469  6.421  78.9  4.9671    2   \n",
       "2           3  0.02729   0.0   7.07     0  0.469  7.185  61.1  4.9671    2   \n",
       "\n",
       "   tax  ptratio  lstat  medv  \n",
       "0  296     15.3   4.98  24.0  \n",
       "1  242     17.8   9.14  21.6  \n",
       "2  242     17.8   4.03  34.7  "
      ]
     },
     "execution_count": 37,
     "metadata": {},
     "output_type": "execute_result"
    }
   ],
   "source": [
    "# Get the first 3 rows of the dataset\n",
    "boston.head(3)"
   ]
  },
  {
   "cell_type": "markdown",
   "metadata": {},
   "source": [
    "We can see that we first need to rescpoe the index as the `Unnamed:0` column."
   ]
  },
  {
   "cell_type": "code",
   "execution_count": 40,
   "metadata": {},
   "outputs": [
    {
     "data": {
      "text/html": [
       "<div>\n",
       "<style scoped>\n",
       "    .dataframe tbody tr th:only-of-type {\n",
       "        vertical-align: middle;\n",
       "    }\n",
       "\n",
       "    .dataframe tbody tr th {\n",
       "        vertical-align: top;\n",
       "    }\n",
       "\n",
       "    .dataframe thead th {\n",
       "        text-align: right;\n",
       "    }\n",
       "</style>\n",
       "<table border=\"1\" class=\"dataframe\">\n",
       "  <thead>\n",
       "    <tr style=\"text-align: right;\">\n",
       "      <th></th>\n",
       "      <th>crim</th>\n",
       "      <th>zn</th>\n",
       "      <th>indus</th>\n",
       "      <th>chas</th>\n",
       "      <th>nox</th>\n",
       "      <th>rm</th>\n",
       "      <th>age</th>\n",
       "      <th>dis</th>\n",
       "      <th>rad</th>\n",
       "      <th>tax</th>\n",
       "      <th>ptratio</th>\n",
       "      <th>lstat</th>\n",
       "      <th>medv</th>\n",
       "    </tr>\n",
       "  </thead>\n",
       "  <tbody>\n",
       "    <tr>\n",
       "      <th>1</th>\n",
       "      <td>0.00632</td>\n",
       "      <td>18.0</td>\n",
       "      <td>2.31</td>\n",
       "      <td>0</td>\n",
       "      <td>0.538</td>\n",
       "      <td>6.575</td>\n",
       "      <td>65.2</td>\n",
       "      <td>4.0900</td>\n",
       "      <td>1</td>\n",
       "      <td>296</td>\n",
       "      <td>15.3</td>\n",
       "      <td>4.98</td>\n",
       "      <td>24.0</td>\n",
       "    </tr>\n",
       "    <tr>\n",
       "      <th>2</th>\n",
       "      <td>0.02731</td>\n",
       "      <td>0.0</td>\n",
       "      <td>7.07</td>\n",
       "      <td>0</td>\n",
       "      <td>0.469</td>\n",
       "      <td>6.421</td>\n",
       "      <td>78.9</td>\n",
       "      <td>4.9671</td>\n",
       "      <td>2</td>\n",
       "      <td>242</td>\n",
       "      <td>17.8</td>\n",
       "      <td>9.14</td>\n",
       "      <td>21.6</td>\n",
       "    </tr>\n",
       "    <tr>\n",
       "      <th>3</th>\n",
       "      <td>0.02729</td>\n",
       "      <td>0.0</td>\n",
       "      <td>7.07</td>\n",
       "      <td>0</td>\n",
       "      <td>0.469</td>\n",
       "      <td>7.185</td>\n",
       "      <td>61.1</td>\n",
       "      <td>4.9671</td>\n",
       "      <td>2</td>\n",
       "      <td>242</td>\n",
       "      <td>17.8</td>\n",
       "      <td>4.03</td>\n",
       "      <td>34.7</td>\n",
       "    </tr>\n",
       "  </tbody>\n",
       "</table>\n",
       "</div>"
      ],
      "text/plain": [
       "      crim    zn  indus  chas    nox     rm   age     dis  rad  tax  ptratio  \\\n",
       "1  0.00632  18.0   2.31     0  0.538  6.575  65.2  4.0900    1  296     15.3   \n",
       "2  0.02731   0.0   7.07     0  0.469  6.421  78.9  4.9671    2  242     17.8   \n",
       "3  0.02729   0.0   7.07     0  0.469  7.185  61.1  4.9671    2  242     17.8   \n",
       "\n",
       "   lstat  medv  \n",
       "1   4.98  24.0  \n",
       "2   9.14  21.6  \n",
       "3   4.03  34.7  "
      ]
     },
     "execution_count": 40,
     "metadata": {},
     "output_type": "execute_result"
    }
   ],
   "source": [
    "# Read in the data accounting for the index column\n",
    "boston = pd.read_csv('Boston.csv', index_col=0)\n",
    "boston.head(3)"
   ]
  },
  {
   "cell_type": "markdown",
   "metadata": {},
   "source": [
    "Now we drop the `chas` variables and create a scatterplot matrix with all columns."
   ]
  },
  {
   "cell_type": "code",
   "execution_count": 59,
   "metadata": {},
   "outputs": [
    {
     "data": {
      "text/plain": [
       "[Index(['zn', 'indus', 'nox', 'rm'], dtype='object'),\n",
       " Index(['age', 'dis', 'rad', 'tax'], dtype='object'),\n",
       " Index(['ptratio', 'lstat', 'medv'], dtype='object')]"
      ]
     },
     "execution_count": 59,
     "metadata": {},
     "output_type": "execute_result"
    }
   ],
   "source": [
    "np.array_split(boston.drop(['crim', 'chas'], axis=1).columns, 3)"
   ]
  },
  {
   "cell_type": "code",
   "execution_count": null,
   "metadata": {},
   "outputs": [
    {
     "data": {
      "image/png": "[encoded data removed]",
      "text/plain": [
       "<Figure size 1200x1200 with 12 Axes>"
      ]
     },
     "metadata": {},
     "output_type": "display_data"
    }
   ],
   "source": [
    "num_rows = 4 # Number of rows in the plot\n",
    "\n",
    "# Set up the subplots\n",
    "fig, axes = plt.subplots(num_rows, int(np.ceil((len(boston.columns)-2) / num_rows)), figsize=(12,12))\n",
    "\n",
    "# Set up the target column and lists of columns to plot\n",
    "target_col = boston.crim\n",
    "col_to_plot = np.array_split(boston.drop(['crim', 'chas'], axis=1).columns, num_rows)\n",
    "\n",
    "# Plot the graphs\n",
    "for ax_row, col_list in zip(axes, col_to_plot):\n",
    "    for ax, col in zip(ax_row, col_list):\n",
    "        ax.scatter(target_col, boston[col])\n",
    "        ax.set_xlabel('crim')\n",
    "        ax.set_ylabel(col)"
   ]
  },
  {
   "cell_type": "markdown",
   "metadata": {},
   "source": [
    "When comparing with the target column of `crim`, we can see a few variables appear to have a relationship. Notably, none of the variables appear to have a strong linear relationship, but we can see that there appear to be logarithmic relationships among the predictors. For example, we can see a relationship between `medv` and `crim`, `dis` and `crim`, and `age` and `crim`.\n",
    "\n",
    "Namely, the closer to a Boston unemployment center the higher the crime statistic. Similarly, the higher the median value home, the lower the crime rate indicating that crime is more likely in poorer zones."
   ]
  },
  {
   "cell_type": "markdown",
   "metadata": {},
   "source": [
    "#### (d) Are any of the predictors associated with per capita crime rate? If so, explain the relationship."
   ]
  },
  {
   "cell_type": "markdown",
   "metadata": {},
   "source": [
    "**Answer:** Reviewing the `crim` column above, we can see that there appear to be some logarithmic relationships with the variables `age`, `dis`, `lstat`, and `medv`. As mentioned before, older ages are associated with more crime, lower `dis` is associated with more crime (closer to a Boston unemployment center), more `lstat` is associated with more crime (lower populations associated with more crime), and higher `medv` is associated with lower crime (wealthier areas have less crime)."
   ]
  },
  {
   "cell_type": "markdown",
   "metadata": {},
   "source": [
    "#### (e) Do any of the suburbs of Boston appear to have particularly high crime rates? Tax rates? Pupil-teacher ratios? Comment on the range of each predictor."
   ]
  },
  {
   "cell_type": "markdown",
   "metadata": {},
   "source": [
    "**Answer:** We can access which suburbs have particularly high crime rates by examing which observations are outside the upper Inner Quartile Range (IQR). We will perform this analysis for each variable."
   ]
  },
  {
   "cell_type": "code",
   "execution_count": 67,
   "metadata": {},
   "outputs": [
    {
     "name": "stdout",
     "output_type": "stream",
     "text": [
      "Range of crim: 88.96988\n",
      "Count of outliers with particularly high values: 66\n",
      "Range of tax: 524\n",
      "Count of outliers with particularly high values: 0\n",
      "Range of ptratio: 9.4\n",
      "Count of outliers with particularly high values: 0\n"
     ]
    }
   ],
   "source": [
    "# Columns to check\n",
    "col_list = ['crim', 'tax', 'ptratio']\n",
    "\n",
    "for col in col_list:\n",
    "    # Get the range\n",
    "    col_range = np.max(boston[col]) - np.min(boston[col])\n",
    "\n",
    "    # Get the 25th and 75th \n",
    "    Q1 = boston[col].quantile(0.25)\n",
    "    Q3 = boston[col].quantile(0.75)\n",
    "\n",
    "    # Get the IQR\n",
    "    IQR = Q3 - Q1\n",
    "\n",
    "    # Get outlier boundary\n",
    "    upper_bound = Q3 + 1.5 * IQR\n",
    "\n",
    "    # Count number of suburbs outside the upper bound\n",
    "    outlier_count = len(boston[boston[col]>upper_bound])\n",
    "\n",
    "    print(f'Range of {col}: {col_range}')\n",
    "    print(f'Count of outliers with particularly high values: {outlier_count}')"
   ]
  },
  {
   "cell_type": "markdown",
   "metadata": {},
   "source": [
    "We can see that there are 66 suburbs that have particularly high crime rates, but there do not appear to be any suburbs that have particularly high tax rates or pupil-teacher ratios. It is worth noting that the tax range is quite high as it is $524 out of $1000, along with the crime range which is 88 per capita."
   ]
  },
  {
   "cell_type": "markdown",
   "metadata": {},
   "source": [
    "#### (f) How many of the suburbs in this dataset bound the Charles river?"
   ]
  },
  {
   "cell_type": "markdown",
   "metadata": {},
   "source": [
    "**Answer:** We can find this amount by filtering on the `chas` variable and checking the length of the array."
   ]
  },
  {
   "cell_type": "code",
   "execution_count": 69,
   "metadata": {},
   "outputs": [
    {
     "name": "stdout",
     "output_type": "stream",
     "text": [
      "35 many suburbs bound the Charles River.\n"
     ]
    }
   ],
   "source": [
    "# Filter on chas and count\n",
    "chas_count = (boston['chas']==1).sum()\n",
    "\n",
    "print(f'{chas_count} many suburbs bound the Charles River.')"
   ]
  },
  {
   "cell_type": "markdown",
   "metadata": {},
   "source": [
    "#### (g) What is the median pupil-teacher ratio among the towns in this dataset?"
   ]
  },
  {
   "cell_type": "markdown",
   "metadata": {},
   "source": [
    "**Answer:** We can find this by using the `np.median()` method."
   ]
  },
  {
   "cell_type": "code",
   "execution_count": 70,
   "metadata": {},
   "outputs": [
    {
     "name": "stdout",
     "output_type": "stream",
     "text": [
      "The median pupil-teacher ratio is 19.05.\n"
     ]
    }
   ],
   "source": [
    "# Find the median pupil-teacher ratioo\n",
    "med_ptratio = np.median(boston['ptratio'])\n",
    "\n",
    "print(f'The median pupil-teacher ratio is {med_ptratio}.')"
   ]
  },
  {
   "cell_type": "markdown",
   "metadata": {},
   "source": [
    "#### (h) Which suburb of Boston has lowest median value of owner-occupied homes? What are the values of the other predictors for that suburb, and how do those values compare to the overall ranges for those predictors? Comment on your findings."
   ]
  },
  {
   "cell_type": "markdown",
   "metadata": {},
   "source": [
    "**Answer:** We can answer this question by first filtering to the lowest median value of owner-occupied homes, and then calculating the percentile of the other predictors."
   ]
  },
  {
   "cell_type": "code",
   "execution_count": 74,
   "metadata": {},
   "outputs": [
    {
     "name": "stdout",
     "output_type": "stream",
     "text": [
      "--------------------------------------------------\n",
      "Percentile of crim: 98.81422924901186\n",
      "Percentile of zn: 36.85770750988142\n",
      "Percentile of indus: 75.7905138339921\n",
      "Percentile of nox: 84.48616600790514\n",
      "Percentile of rm: 7.707509881422925\n",
      "Percentile of age: 95.8498023715415\n",
      "Percentile of dis: 5.7312252964426875\n",
      "Percentile of rad: 87.05533596837944\n",
      "Percentile of tax: 86.06719367588933\n",
      "Percentile of ptratio: 75.19762845849802\n",
      "Percentile of lstat: 97.82608695652173\n",
      "--------------------------------------------------\n",
      "Percentile of crim: 99.60474308300395\n",
      "Percentile of zn: 36.85770750988142\n",
      "Percentile of indus: 75.7905138339921\n",
      "Percentile of nox: 84.48616600790514\n",
      "Percentile of rm: 13.636363636363637\n",
      "Percentile of age: 95.8498023715415\n",
      "Percentile of dis: 4.150197628458498\n",
      "Percentile of rad: 87.05533596837944\n",
      "Percentile of tax: 86.06719367588933\n",
      "Percentile of ptratio: 75.19762845849802\n",
      "Percentile of lstat: 89.92094861660078\n"
     ]
    }
   ],
   "source": [
    "# Import necessary package\n",
    "from scipy.stats import percentileofscore\n",
    "\n",
    "# Filter to the lowest median value of owner-occupied homes\n",
    "min_medv = np.min(boston['medv'])\n",
    "min_medv_sub = boston[boston.medv==min_medv]\n",
    "\n",
    "for idx, row in min_medv_sub.iterrows():\n",
    "    print('-'*50)\n",
    "    for col in boston.drop(['medv', 'chas'], axis=1).columns:\n",
    "        print(f'Percentile of {col}: {percentileofscore(boston[col], row[col])}')"
   ]
  },
  {
   "cell_type": "markdown",
   "metadata": {},
   "source": [
    "We can immediately see that the two identified suburbs have some of the highest crime rates in all of Boston, with less than 2% of all suburbs having more crime. They also contain some of the oldest homes in all Boston, have a very high pupil-teacher ratio (i.e., less teachers in the region). Their tax rate is also fairly high, and are the closests in distance to a Boston unemployment center. They have above average nitrogen oxide ratings, and have some of the highest proportion of lower status citizens in all the city."
   ]
  },
  {
   "cell_type": "markdown",
   "metadata": {},
   "source": [
    "#### (i) In this dataset, how many of the suburbs average more than seven rooms per dwelling? More than eight rooms per dwelling? Comment on the suburbs that average more than eight rooms per dwelling."
   ]
  },
  {
   "cell_type": "markdown",
   "metadata": {},
   "source": [
    "**Answer:** We can find this answer by subsetting on the data."
   ]
  },
  {
   "cell_type": "code",
   "execution_count": 75,
   "metadata": {},
   "outputs": [
    {
     "name": "stdout",
     "output_type": "stream",
     "text": [
      "64 suburbs have on average more than seven rooms per dwelling.\n",
      "13 suburbs have on average more than eight rooms per dwelling.\n"
     ]
    }
   ],
   "source": [
    "# Set our filtering conditions\n",
    "more_7 = boston.rm > 7\n",
    "more_8 = boston.rm > 8\n",
    "\n",
    "# Count the number of suburbs with more than 7 rooms per dwelling\n",
    "print(f'{more_7.sum()} suburbs have on average more than seven rooms per dwelling.')\n",
    "print(f'{more_8.sum()} suburbs have on average more than eight rooms per dwelling.')"
   ]
  },
  {
   "cell_type": "markdown",
   "metadata": {},
   "source": [
    "We can review the suburbs that have more than eight rooms per dwelling:"
   ]
  },
  {
   "cell_type": "code",
   "execution_count": 76,
   "metadata": {},
   "outputs": [
    {
     "data": {
      "text/html": [
       "<div>\n",
       "<style scoped>\n",
       "    .dataframe tbody tr th:only-of-type {\n",
       "        vertical-align: middle;\n",
       "    }\n",
       "\n",
       "    .dataframe tbody tr th {\n",
       "        vertical-align: top;\n",
       "    }\n",
       "\n",
       "    .dataframe thead th {\n",
       "        text-align: right;\n",
       "    }\n",
       "</style>\n",
       "<table border=\"1\" class=\"dataframe\">\n",
       "  <thead>\n",
       "    <tr style=\"text-align: right;\">\n",
       "      <th></th>\n",
       "      <th>crim</th>\n",
       "      <th>zn</th>\n",
       "      <th>indus</th>\n",
       "      <th>chas</th>\n",
       "      <th>nox</th>\n",
       "      <th>rm</th>\n",
       "      <th>age</th>\n",
       "      <th>dis</th>\n",
       "      <th>rad</th>\n",
       "      <th>tax</th>\n",
       "      <th>ptratio</th>\n",
       "      <th>lstat</th>\n",
       "      <th>medv</th>\n",
       "    </tr>\n",
       "  </thead>\n",
       "  <tbody>\n",
       "    <tr>\n",
       "      <th>98</th>\n",
       "      <td>0.12083</td>\n",
       "      <td>0.0</td>\n",
       "      <td>2.89</td>\n",
       "      <td>0</td>\n",
       "      <td>0.4450</td>\n",
       "      <td>8.069</td>\n",
       "      <td>76.0</td>\n",
       "      <td>3.4952</td>\n",
       "      <td>2</td>\n",
       "      <td>276</td>\n",
       "      <td>18.0</td>\n",
       "      <td>4.21</td>\n",
       "      <td>38.7</td>\n",
       "    </tr>\n",
       "    <tr>\n",
       "      <th>164</th>\n",
       "      <td>1.51902</td>\n",
       "      <td>0.0</td>\n",
       "      <td>19.58</td>\n",
       "      <td>1</td>\n",
       "      <td>0.6050</td>\n",
       "      <td>8.375</td>\n",
       "      <td>93.9</td>\n",
       "      <td>2.1620</td>\n",
       "      <td>5</td>\n",
       "      <td>403</td>\n",
       "      <td>14.7</td>\n",
       "      <td>3.32</td>\n",
       "      <td>50.0</td>\n",
       "    </tr>\n",
       "    <tr>\n",
       "      <th>205</th>\n",
       "      <td>0.02009</td>\n",
       "      <td>95.0</td>\n",
       "      <td>2.68</td>\n",
       "      <td>0</td>\n",
       "      <td>0.4161</td>\n",
       "      <td>8.034</td>\n",
       "      <td>31.9</td>\n",
       "      <td>5.1180</td>\n",
       "      <td>4</td>\n",
       "      <td>224</td>\n",
       "      <td>14.7</td>\n",
       "      <td>2.88</td>\n",
       "      <td>50.0</td>\n",
       "    </tr>\n",
       "    <tr>\n",
       "      <th>225</th>\n",
       "      <td>0.31533</td>\n",
       "      <td>0.0</td>\n",
       "      <td>6.20</td>\n",
       "      <td>0</td>\n",
       "      <td>0.5040</td>\n",
       "      <td>8.266</td>\n",
       "      <td>78.3</td>\n",
       "      <td>2.8944</td>\n",
       "      <td>8</td>\n",
       "      <td>307</td>\n",
       "      <td>17.4</td>\n",
       "      <td>4.14</td>\n",
       "      <td>44.8</td>\n",
       "    </tr>\n",
       "    <tr>\n",
       "      <th>226</th>\n",
       "      <td>0.52693</td>\n",
       "      <td>0.0</td>\n",
       "      <td>6.20</td>\n",
       "      <td>0</td>\n",
       "      <td>0.5040</td>\n",
       "      <td>8.725</td>\n",
       "      <td>83.0</td>\n",
       "      <td>2.8944</td>\n",
       "      <td>8</td>\n",
       "      <td>307</td>\n",
       "      <td>17.4</td>\n",
       "      <td>4.63</td>\n",
       "      <td>50.0</td>\n",
       "    </tr>\n",
       "    <tr>\n",
       "      <th>227</th>\n",
       "      <td>0.38214</td>\n",
       "      <td>0.0</td>\n",
       "      <td>6.20</td>\n",
       "      <td>0</td>\n",
       "      <td>0.5040</td>\n",
       "      <td>8.040</td>\n",
       "      <td>86.5</td>\n",
       "      <td>3.2157</td>\n",
       "      <td>8</td>\n",
       "      <td>307</td>\n",
       "      <td>17.4</td>\n",
       "      <td>3.13</td>\n",
       "      <td>37.6</td>\n",
       "    </tr>\n",
       "    <tr>\n",
       "      <th>233</th>\n",
       "      <td>0.57529</td>\n",
       "      <td>0.0</td>\n",
       "      <td>6.20</td>\n",
       "      <td>0</td>\n",
       "      <td>0.5070</td>\n",
       "      <td>8.337</td>\n",
       "      <td>73.3</td>\n",
       "      <td>3.8384</td>\n",
       "      <td>8</td>\n",
       "      <td>307</td>\n",
       "      <td>17.4</td>\n",
       "      <td>2.47</td>\n",
       "      <td>41.7</td>\n",
       "    </tr>\n",
       "    <tr>\n",
       "      <th>234</th>\n",
       "      <td>0.33147</td>\n",
       "      <td>0.0</td>\n",
       "      <td>6.20</td>\n",
       "      <td>0</td>\n",
       "      <td>0.5070</td>\n",
       "      <td>8.247</td>\n",
       "      <td>70.4</td>\n",
       "      <td>3.6519</td>\n",
       "      <td>8</td>\n",
       "      <td>307</td>\n",
       "      <td>17.4</td>\n",
       "      <td>3.95</td>\n",
       "      <td>48.3</td>\n",
       "    </tr>\n",
       "    <tr>\n",
       "      <th>254</th>\n",
       "      <td>0.36894</td>\n",
       "      <td>22.0</td>\n",
       "      <td>5.86</td>\n",
       "      <td>0</td>\n",
       "      <td>0.4310</td>\n",
       "      <td>8.259</td>\n",
       "      <td>8.4</td>\n",
       "      <td>8.9067</td>\n",
       "      <td>7</td>\n",
       "      <td>330</td>\n",
       "      <td>19.1</td>\n",
       "      <td>3.54</td>\n",
       "      <td>42.8</td>\n",
       "    </tr>\n",
       "    <tr>\n",
       "      <th>258</th>\n",
       "      <td>0.61154</td>\n",
       "      <td>20.0</td>\n",
       "      <td>3.97</td>\n",
       "      <td>0</td>\n",
       "      <td>0.6470</td>\n",
       "      <td>8.704</td>\n",
       "      <td>86.9</td>\n",
       "      <td>1.8010</td>\n",
       "      <td>5</td>\n",
       "      <td>264</td>\n",
       "      <td>13.0</td>\n",
       "      <td>5.12</td>\n",
       "      <td>50.0</td>\n",
       "    </tr>\n",
       "    <tr>\n",
       "      <th>263</th>\n",
       "      <td>0.52014</td>\n",
       "      <td>20.0</td>\n",
       "      <td>3.97</td>\n",
       "      <td>0</td>\n",
       "      <td>0.6470</td>\n",
       "      <td>8.398</td>\n",
       "      <td>91.5</td>\n",
       "      <td>2.2885</td>\n",
       "      <td>5</td>\n",
       "      <td>264</td>\n",
       "      <td>13.0</td>\n",
       "      <td>5.91</td>\n",
       "      <td>48.8</td>\n",
       "    </tr>\n",
       "    <tr>\n",
       "      <th>268</th>\n",
       "      <td>0.57834</td>\n",
       "      <td>20.0</td>\n",
       "      <td>3.97</td>\n",
       "      <td>0</td>\n",
       "      <td>0.5750</td>\n",
       "      <td>8.297</td>\n",
       "      <td>67.0</td>\n",
       "      <td>2.4216</td>\n",
       "      <td>5</td>\n",
       "      <td>264</td>\n",
       "      <td>13.0</td>\n",
       "      <td>7.44</td>\n",
       "      <td>50.0</td>\n",
       "    </tr>\n",
       "    <tr>\n",
       "      <th>365</th>\n",
       "      <td>3.47428</td>\n",
       "      <td>0.0</td>\n",
       "      <td>18.10</td>\n",
       "      <td>1</td>\n",
       "      <td>0.7180</td>\n",
       "      <td>8.780</td>\n",
       "      <td>82.9</td>\n",
       "      <td>1.9047</td>\n",
       "      <td>24</td>\n",
       "      <td>666</td>\n",
       "      <td>20.2</td>\n",
       "      <td>5.29</td>\n",
       "      <td>21.9</td>\n",
       "    </tr>\n",
       "  </tbody>\n",
       "</table>\n",
       "</div>"
      ],
      "text/plain": [
       "        crim    zn  indus  chas     nox     rm   age     dis  rad  tax  \\\n",
       "98   0.12083   0.0   2.89     0  0.4450  8.069  76.0  3.4952    2  276   \n",
       "164  1.51902   0.0  19.58     1  0.6050  8.375  93.9  2.1620    5  403   \n",
       "205  0.02009  95.0   2.68     0  0.4161  8.034  31.9  5.1180    4  224   \n",
       "225  0.31533   0.0   6.20     0  0.5040  8.266  78.3  2.8944    8  307   \n",
       "226  0.52693   0.0   6.20     0  0.5040  8.725  83.0  2.8944    8  307   \n",
       "227  0.38214   0.0   6.20     0  0.5040  8.040  86.5  3.2157    8  307   \n",
       "233  0.57529   0.0   6.20     0  0.5070  8.337  73.3  3.8384    8  307   \n",
       "234  0.33147   0.0   6.20     0  0.5070  8.247  70.4  3.6519    8  307   \n",
       "254  0.36894  22.0   5.86     0  0.4310  8.259   8.4  8.9067    7  330   \n",
       "258  0.61154  20.0   3.97     0  0.6470  8.704  86.9  1.8010    5  264   \n",
       "263  0.52014  20.0   3.97     0  0.6470  8.398  91.5  2.2885    5  264   \n",
       "268  0.57834  20.0   3.97     0  0.5750  8.297  67.0  2.4216    5  264   \n",
       "365  3.47428   0.0  18.10     1  0.7180  8.780  82.9  1.9047   24  666   \n",
       "\n",
       "     ptratio  lstat  medv  \n",
       "98      18.0   4.21  38.7  \n",
       "164     14.7   3.32  50.0  \n",
       "205     14.7   2.88  50.0  \n",
       "225     17.4   4.14  44.8  \n",
       "226     17.4   4.63  50.0  \n",
       "227     17.4   3.13  37.6  \n",
       "233     17.4   2.47  41.7  \n",
       "234     17.4   3.95  48.3  \n",
       "254     19.1   3.54  42.8  \n",
       "258     13.0   5.12  50.0  \n",
       "263     13.0   5.91  48.8  \n",
       "268     13.0   7.44  50.0  \n",
       "365     20.2   5.29  21.9  "
      ]
     },
     "execution_count": 76,
     "metadata": {},
     "output_type": "execute_result"
    }
   ],
   "source": [
    "# View suburbs with more than eight rooms per dwelling\n",
    "boston[more_8]"
   ]
  },
  {
   "cell_type": "markdown",
   "metadata": {},
   "source": [
    "We can see that almost all of the suburbs listed do not border the Charles River. We can also ee that they have some of the lowest crime rates in all of Booston, have very low pupil-teacher ratios, and very low amounts of nitrogen oxide in the air. We can also see that some of them have a very high proportion of homes built before the 1940s, while a few of the suburbs contain newer homes built after the 40s."
   ]
  },
  {
   "cell_type": "markdown",
   "metadata": {},
   "source": []
  }
 ],
 "metadata": {
  "kernelspec": {
   "display_name": "venv",
   "language": "python",
   "name": "python3"
  },
  "language_info": {
   "codemirror_mode": {
    "name": "ipython",
    "version": 3
   },
   "file_extension": ".py",
   "mimetype": "text/x-python",
   "name": "python",
   "nbconvert_exporter": "python",
   "pygments_lexer": "ipython3",
   "version": "3.13.1"
  }
 },
 "nbformat": 4,
 "nbformat_minor": 2
}
